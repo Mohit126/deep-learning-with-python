{
 "cells": [
  {
   "cell_type": "code",
   "execution_count": 1,
   "metadata": {},
   "outputs": [],
   "source": [
    "import pandas as pd\n",
    "import numpy as np\n",
    "from sklearn.metrics.pairwise import cosine_similarity\n",
    "from sklearn.feature_extraction.text import CountVectorizer"
   ]
  },
  {
   "cell_type": "code",
   "execution_count": 2,
   "metadata": {},
   "outputs": [],
   "source": [
    "df = pd.read_csv(\"movie_dataset.csv\")"
   ]
  },
  {
   "cell_type": "code",
   "execution_count": 3,
   "metadata": {},
   "outputs": [
    {
     "data": {
      "text/html": [
       "<div>\n",
       "<style scoped>\n",
       "    .dataframe tbody tr th:only-of-type {\n",
       "        vertical-align: middle;\n",
       "    }\n",
       "\n",
       "    .dataframe tbody tr th {\n",
       "        vertical-align: top;\n",
       "    }\n",
       "\n",
       "    .dataframe thead th {\n",
       "        text-align: right;\n",
       "    }\n",
       "</style>\n",
       "<table border=\"1\" class=\"dataframe\">\n",
       "  <thead>\n",
       "    <tr style=\"text-align: right;\">\n",
       "      <th></th>\n",
       "      <th>index</th>\n",
       "      <th>budget</th>\n",
       "      <th>genres</th>\n",
       "      <th>homepage</th>\n",
       "      <th>id</th>\n",
       "      <th>keywords</th>\n",
       "      <th>original_language</th>\n",
       "      <th>original_title</th>\n",
       "      <th>overview</th>\n",
       "      <th>popularity</th>\n",
       "      <th>...</th>\n",
       "      <th>runtime</th>\n",
       "      <th>spoken_languages</th>\n",
       "      <th>status</th>\n",
       "      <th>tagline</th>\n",
       "      <th>title</th>\n",
       "      <th>vote_average</th>\n",
       "      <th>vote_count</th>\n",
       "      <th>cast</th>\n",
       "      <th>crew</th>\n",
       "      <th>director</th>\n",
       "    </tr>\n",
       "  </thead>\n",
       "  <tbody>\n",
       "    <tr>\n",
       "      <th>0</th>\n",
       "      <td>0</td>\n",
       "      <td>237000000</td>\n",
       "      <td>Action Adventure Fantasy Science Fiction</td>\n",
       "      <td>http://www.avatarmovie.com/</td>\n",
       "      <td>19995</td>\n",
       "      <td>culture clash future space war space colony so...</td>\n",
       "      <td>en</td>\n",
       "      <td>Avatar</td>\n",
       "      <td>In the 22nd century, a paraplegic Marine is di...</td>\n",
       "      <td>150.437577</td>\n",
       "      <td>...</td>\n",
       "      <td>162.0</td>\n",
       "      <td>[{\"iso_639_1\": \"en\", \"name\": \"English\"}, {\"iso...</td>\n",
       "      <td>Released</td>\n",
       "      <td>Enter the World of Pandora.</td>\n",
       "      <td>Avatar</td>\n",
       "      <td>7.2</td>\n",
       "      <td>11800</td>\n",
       "      <td>Sam Worthington Zoe Saldana Sigourney Weaver S...</td>\n",
       "      <td>[{'name': 'Stephen E. Rivkin', 'gender': 0, 'd...</td>\n",
       "      <td>James Cameron</td>\n",
       "    </tr>\n",
       "    <tr>\n",
       "      <th>1</th>\n",
       "      <td>1</td>\n",
       "      <td>300000000</td>\n",
       "      <td>Adventure Fantasy Action</td>\n",
       "      <td>http://disney.go.com/disneypictures/pirates/</td>\n",
       "      <td>285</td>\n",
       "      <td>ocean drug abuse exotic island east india trad...</td>\n",
       "      <td>en</td>\n",
       "      <td>Pirates of the Caribbean: At World's End</td>\n",
       "      <td>Captain Barbossa, long believed to be dead, ha...</td>\n",
       "      <td>139.082615</td>\n",
       "      <td>...</td>\n",
       "      <td>169.0</td>\n",
       "      <td>[{\"iso_639_1\": \"en\", \"name\": \"English\"}]</td>\n",
       "      <td>Released</td>\n",
       "      <td>At the end of the world, the adventure begins.</td>\n",
       "      <td>Pirates of the Caribbean: At World's End</td>\n",
       "      <td>6.9</td>\n",
       "      <td>4500</td>\n",
       "      <td>Johnny Depp Orlando Bloom Keira Knightley Stel...</td>\n",
       "      <td>[{'name': 'Dariusz Wolski', 'gender': 2, 'depa...</td>\n",
       "      <td>Gore Verbinski</td>\n",
       "    </tr>\n",
       "    <tr>\n",
       "      <th>2</th>\n",
       "      <td>2</td>\n",
       "      <td>245000000</td>\n",
       "      <td>Action Adventure Crime</td>\n",
       "      <td>http://www.sonypictures.com/movies/spectre/</td>\n",
       "      <td>206647</td>\n",
       "      <td>spy based on novel secret agent sequel mi6</td>\n",
       "      <td>en</td>\n",
       "      <td>Spectre</td>\n",
       "      <td>A cryptic message from Bond’s past sends him o...</td>\n",
       "      <td>107.376788</td>\n",
       "      <td>...</td>\n",
       "      <td>148.0</td>\n",
       "      <td>[{\"iso_639_1\": \"fr\", \"name\": \"Fran\\u00e7ais\"},...</td>\n",
       "      <td>Released</td>\n",
       "      <td>A Plan No One Escapes</td>\n",
       "      <td>Spectre</td>\n",
       "      <td>6.3</td>\n",
       "      <td>4466</td>\n",
       "      <td>Daniel Craig Christoph Waltz L\\u00e9a Seydoux ...</td>\n",
       "      <td>[{'name': 'Thomas Newman', 'gender': 2, 'depar...</td>\n",
       "      <td>Sam Mendes</td>\n",
       "    </tr>\n",
       "    <tr>\n",
       "      <th>3</th>\n",
       "      <td>3</td>\n",
       "      <td>250000000</td>\n",
       "      <td>Action Crime Drama Thriller</td>\n",
       "      <td>http://www.thedarkknightrises.com/</td>\n",
       "      <td>49026</td>\n",
       "      <td>dc comics crime fighter terrorist secret ident...</td>\n",
       "      <td>en</td>\n",
       "      <td>The Dark Knight Rises</td>\n",
       "      <td>Following the death of District Attorney Harve...</td>\n",
       "      <td>112.312950</td>\n",
       "      <td>...</td>\n",
       "      <td>165.0</td>\n",
       "      <td>[{\"iso_639_1\": \"en\", \"name\": \"English\"}]</td>\n",
       "      <td>Released</td>\n",
       "      <td>The Legend Ends</td>\n",
       "      <td>The Dark Knight Rises</td>\n",
       "      <td>7.6</td>\n",
       "      <td>9106</td>\n",
       "      <td>Christian Bale Michael Caine Gary Oldman Anne ...</td>\n",
       "      <td>[{'name': 'Hans Zimmer', 'gender': 2, 'departm...</td>\n",
       "      <td>Christopher Nolan</td>\n",
       "    </tr>\n",
       "    <tr>\n",
       "      <th>4</th>\n",
       "      <td>4</td>\n",
       "      <td>260000000</td>\n",
       "      <td>Action Adventure Science Fiction</td>\n",
       "      <td>http://movies.disney.com/john-carter</td>\n",
       "      <td>49529</td>\n",
       "      <td>based on novel mars medallion space travel pri...</td>\n",
       "      <td>en</td>\n",
       "      <td>John Carter</td>\n",
       "      <td>John Carter is a war-weary, former military ca...</td>\n",
       "      <td>43.926995</td>\n",
       "      <td>...</td>\n",
       "      <td>132.0</td>\n",
       "      <td>[{\"iso_639_1\": \"en\", \"name\": \"English\"}]</td>\n",
       "      <td>Released</td>\n",
       "      <td>Lost in our world, found in another.</td>\n",
       "      <td>John Carter</td>\n",
       "      <td>6.1</td>\n",
       "      <td>2124</td>\n",
       "      <td>Taylor Kitsch Lynn Collins Samantha Morton Wil...</td>\n",
       "      <td>[{'name': 'Andrew Stanton', 'gender': 2, 'depa...</td>\n",
       "      <td>Andrew Stanton</td>\n",
       "    </tr>\n",
       "  </tbody>\n",
       "</table>\n",
       "<p>5 rows × 24 columns</p>\n",
       "</div>"
      ],
      "text/plain": [
       "   index     budget                                    genres  \\\n",
       "0      0  237000000  Action Adventure Fantasy Science Fiction   \n",
       "1      1  300000000                  Adventure Fantasy Action   \n",
       "2      2  245000000                    Action Adventure Crime   \n",
       "3      3  250000000               Action Crime Drama Thriller   \n",
       "4      4  260000000          Action Adventure Science Fiction   \n",
       "\n",
       "                                       homepage      id  \\\n",
       "0                   http://www.avatarmovie.com/   19995   \n",
       "1  http://disney.go.com/disneypictures/pirates/     285   \n",
       "2   http://www.sonypictures.com/movies/spectre/  206647   \n",
       "3            http://www.thedarkknightrises.com/   49026   \n",
       "4          http://movies.disney.com/john-carter   49529   \n",
       "\n",
       "                                            keywords original_language  \\\n",
       "0  culture clash future space war space colony so...                en   \n",
       "1  ocean drug abuse exotic island east india trad...                en   \n",
       "2         spy based on novel secret agent sequel mi6                en   \n",
       "3  dc comics crime fighter terrorist secret ident...                en   \n",
       "4  based on novel mars medallion space travel pri...                en   \n",
       "\n",
       "                             original_title  \\\n",
       "0                                    Avatar   \n",
       "1  Pirates of the Caribbean: At World's End   \n",
       "2                                   Spectre   \n",
       "3                     The Dark Knight Rises   \n",
       "4                               John Carter   \n",
       "\n",
       "                                            overview  popularity  ... runtime  \\\n",
       "0  In the 22nd century, a paraplegic Marine is di...  150.437577  ...   162.0   \n",
       "1  Captain Barbossa, long believed to be dead, ha...  139.082615  ...   169.0   \n",
       "2  A cryptic message from Bond’s past sends him o...  107.376788  ...   148.0   \n",
       "3  Following the death of District Attorney Harve...  112.312950  ...   165.0   \n",
       "4  John Carter is a war-weary, former military ca...   43.926995  ...   132.0   \n",
       "\n",
       "                                    spoken_languages    status  \\\n",
       "0  [{\"iso_639_1\": \"en\", \"name\": \"English\"}, {\"iso...  Released   \n",
       "1           [{\"iso_639_1\": \"en\", \"name\": \"English\"}]  Released   \n",
       "2  [{\"iso_639_1\": \"fr\", \"name\": \"Fran\\u00e7ais\"},...  Released   \n",
       "3           [{\"iso_639_1\": \"en\", \"name\": \"English\"}]  Released   \n",
       "4           [{\"iso_639_1\": \"en\", \"name\": \"English\"}]  Released   \n",
       "\n",
       "                                          tagline  \\\n",
       "0                     Enter the World of Pandora.   \n",
       "1  At the end of the world, the adventure begins.   \n",
       "2                           A Plan No One Escapes   \n",
       "3                                 The Legend Ends   \n",
       "4            Lost in our world, found in another.   \n",
       "\n",
       "                                      title vote_average vote_count  \\\n",
       "0                                    Avatar          7.2      11800   \n",
       "1  Pirates of the Caribbean: At World's End          6.9       4500   \n",
       "2                                   Spectre          6.3       4466   \n",
       "3                     The Dark Knight Rises          7.6       9106   \n",
       "4                               John Carter          6.1       2124   \n",
       "\n",
       "                                                cast  \\\n",
       "0  Sam Worthington Zoe Saldana Sigourney Weaver S...   \n",
       "1  Johnny Depp Orlando Bloom Keira Knightley Stel...   \n",
       "2  Daniel Craig Christoph Waltz L\\u00e9a Seydoux ...   \n",
       "3  Christian Bale Michael Caine Gary Oldman Anne ...   \n",
       "4  Taylor Kitsch Lynn Collins Samantha Morton Wil...   \n",
       "\n",
       "                                                crew           director  \n",
       "0  [{'name': 'Stephen E. Rivkin', 'gender': 0, 'd...      James Cameron  \n",
       "1  [{'name': 'Dariusz Wolski', 'gender': 2, 'depa...     Gore Verbinski  \n",
       "2  [{'name': 'Thomas Newman', 'gender': 2, 'depar...         Sam Mendes  \n",
       "3  [{'name': 'Hans Zimmer', 'gender': 2, 'departm...  Christopher Nolan  \n",
       "4  [{'name': 'Andrew Stanton', 'gender': 2, 'depa...     Andrew Stanton  \n",
       "\n",
       "[5 rows x 24 columns]"
      ]
     },
     "execution_count": 3,
     "metadata": {},
     "output_type": "execute_result"
    }
   ],
   "source": [
    "df.head(5)"
   ]
  },
  {
   "cell_type": "code",
   "execution_count": 4,
   "metadata": {},
   "outputs": [
    {
     "data": {
      "text/plain": [
       "(4803, 24)"
      ]
     },
     "execution_count": 4,
     "metadata": {},
     "output_type": "execute_result"
    }
   ],
   "source": [
    "df.shape"
   ]
  },
  {
   "cell_type": "code",
   "execution_count": 5,
   "metadata": {},
   "outputs": [
    {
     "data": {
      "text/html": [
       "<div>\n",
       "<style scoped>\n",
       "    .dataframe tbody tr th:only-of-type {\n",
       "        vertical-align: middle;\n",
       "    }\n",
       "\n",
       "    .dataframe tbody tr th {\n",
       "        vertical-align: top;\n",
       "    }\n",
       "\n",
       "    .dataframe thead th {\n",
       "        text-align: right;\n",
       "    }\n",
       "</style>\n",
       "<table border=\"1\" class=\"dataframe\">\n",
       "  <thead>\n",
       "    <tr style=\"text-align: right;\">\n",
       "      <th></th>\n",
       "      <th>keywords</th>\n",
       "      <th>cast</th>\n",
       "      <th>genres</th>\n",
       "      <th>director</th>\n",
       "    </tr>\n",
       "  </thead>\n",
       "  <tbody>\n",
       "    <tr>\n",
       "      <th>0</th>\n",
       "      <td>culture clash future space war space colony so...</td>\n",
       "      <td>Sam Worthington Zoe Saldana Sigourney Weaver S...</td>\n",
       "      <td>Action Adventure Fantasy Science Fiction</td>\n",
       "      <td>James Cameron</td>\n",
       "    </tr>\n",
       "    <tr>\n",
       "      <th>1</th>\n",
       "      <td>ocean drug abuse exotic island east india trad...</td>\n",
       "      <td>Johnny Depp Orlando Bloom Keira Knightley Stel...</td>\n",
       "      <td>Adventure Fantasy Action</td>\n",
       "      <td>Gore Verbinski</td>\n",
       "    </tr>\n",
       "    <tr>\n",
       "      <th>2</th>\n",
       "      <td>spy based on novel secret agent sequel mi6</td>\n",
       "      <td>Daniel Craig Christoph Waltz L\\u00e9a Seydoux ...</td>\n",
       "      <td>Action Adventure Crime</td>\n",
       "      <td>Sam Mendes</td>\n",
       "    </tr>\n",
       "    <tr>\n",
       "      <th>3</th>\n",
       "      <td>dc comics crime fighter terrorist secret ident...</td>\n",
       "      <td>Christian Bale Michael Caine Gary Oldman Anne ...</td>\n",
       "      <td>Action Crime Drama Thriller</td>\n",
       "      <td>Christopher Nolan</td>\n",
       "    </tr>\n",
       "    <tr>\n",
       "      <th>4</th>\n",
       "      <td>based on novel mars medallion space travel pri...</td>\n",
       "      <td>Taylor Kitsch Lynn Collins Samantha Morton Wil...</td>\n",
       "      <td>Action Adventure Science Fiction</td>\n",
       "      <td>Andrew Stanton</td>\n",
       "    </tr>\n",
       "  </tbody>\n",
       "</table>\n",
       "</div>"
      ],
      "text/plain": [
       "                                            keywords  \\\n",
       "0  culture clash future space war space colony so...   \n",
       "1  ocean drug abuse exotic island east india trad...   \n",
       "2         spy based on novel secret agent sequel mi6   \n",
       "3  dc comics crime fighter terrorist secret ident...   \n",
       "4  based on novel mars medallion space travel pri...   \n",
       "\n",
       "                                                cast  \\\n",
       "0  Sam Worthington Zoe Saldana Sigourney Weaver S...   \n",
       "1  Johnny Depp Orlando Bloom Keira Knightley Stel...   \n",
       "2  Daniel Craig Christoph Waltz L\\u00e9a Seydoux ...   \n",
       "3  Christian Bale Michael Caine Gary Oldman Anne ...   \n",
       "4  Taylor Kitsch Lynn Collins Samantha Morton Wil...   \n",
       "\n",
       "                                     genres           director  \n",
       "0  Action Adventure Fantasy Science Fiction      James Cameron  \n",
       "1                  Adventure Fantasy Action     Gore Verbinski  \n",
       "2                    Action Adventure Crime         Sam Mendes  \n",
       "3               Action Crime Drama Thriller  Christopher Nolan  \n",
       "4          Action Adventure Science Fiction     Andrew Stanton  "
      ]
     },
     "execution_count": 5,
     "metadata": {},
     "output_type": "execute_result"
    }
   ],
   "source": [
    "features = ['keywords','cast','genres','director']\n",
    "df[features].head(5)"
   ]
  },
  {
   "cell_type": "code",
   "execution_count": 6,
   "metadata": {},
   "outputs": [
    {
     "data": {
      "text/plain": [
       "True"
      ]
     },
     "execution_count": 6,
     "metadata": {},
     "output_type": "execute_result"
    }
   ],
   "source": [
    "df[features].isnull().values.any()"
   ]
  },
  {
   "cell_type": "code",
   "execution_count": 7,
   "metadata": {},
   "outputs": [],
   "source": [
    "for feature in features:\n",
    "    df[feature] = df[feature].fillna('')"
   ]
  },
  {
   "cell_type": "code",
   "execution_count": 8,
   "metadata": {},
   "outputs": [
    {
     "data": {
      "text/plain": [
       "False"
      ]
     },
     "execution_count": 8,
     "metadata": {},
     "output_type": "execute_result"
    }
   ],
   "source": [
    "df[features].isnull().values.any()"
   ]
  },
  {
   "cell_type": "code",
   "execution_count": 9,
   "metadata": {},
   "outputs": [],
   "source": [
    "def combine_features(row):\n",
    "    return row['keywords']+' '+row['cast']+' '+row['genres']+' '+row['director']"
   ]
  },
  {
   "cell_type": "code",
   "execution_count": 10,
   "metadata": {},
   "outputs": [],
   "source": [
    "df['combined_features']=df.apply(combine_features, axis=1)"
   ]
  },
  {
   "cell_type": "code",
   "execution_count": 11,
   "metadata": {},
   "outputs": [
    {
     "data": {
      "text/html": [
       "<div>\n",
       "<style scoped>\n",
       "    .dataframe tbody tr th:only-of-type {\n",
       "        vertical-align: middle;\n",
       "    }\n",
       "\n",
       "    .dataframe tbody tr th {\n",
       "        vertical-align: top;\n",
       "    }\n",
       "\n",
       "    .dataframe thead th {\n",
       "        text-align: right;\n",
       "    }\n",
       "</style>\n",
       "<table border=\"1\" class=\"dataframe\">\n",
       "  <thead>\n",
       "    <tr style=\"text-align: right;\">\n",
       "      <th></th>\n",
       "      <th>index</th>\n",
       "      <th>budget</th>\n",
       "      <th>genres</th>\n",
       "      <th>homepage</th>\n",
       "      <th>id</th>\n",
       "      <th>keywords</th>\n",
       "      <th>original_language</th>\n",
       "      <th>original_title</th>\n",
       "      <th>overview</th>\n",
       "      <th>popularity</th>\n",
       "      <th>...</th>\n",
       "      <th>spoken_languages</th>\n",
       "      <th>status</th>\n",
       "      <th>tagline</th>\n",
       "      <th>title</th>\n",
       "      <th>vote_average</th>\n",
       "      <th>vote_count</th>\n",
       "      <th>cast</th>\n",
       "      <th>crew</th>\n",
       "      <th>director</th>\n",
       "      <th>combined_features</th>\n",
       "    </tr>\n",
       "  </thead>\n",
       "  <tbody>\n",
       "    <tr>\n",
       "      <th>0</th>\n",
       "      <td>0</td>\n",
       "      <td>237000000</td>\n",
       "      <td>Action Adventure Fantasy Science Fiction</td>\n",
       "      <td>http://www.avatarmovie.com/</td>\n",
       "      <td>19995</td>\n",
       "      <td>culture clash future space war space colony so...</td>\n",
       "      <td>en</td>\n",
       "      <td>Avatar</td>\n",
       "      <td>In the 22nd century, a paraplegic Marine is di...</td>\n",
       "      <td>150.437577</td>\n",
       "      <td>...</td>\n",
       "      <td>[{\"iso_639_1\": \"en\", \"name\": \"English\"}, {\"iso...</td>\n",
       "      <td>Released</td>\n",
       "      <td>Enter the World of Pandora.</td>\n",
       "      <td>Avatar</td>\n",
       "      <td>7.2</td>\n",
       "      <td>11800</td>\n",
       "      <td>Sam Worthington Zoe Saldana Sigourney Weaver S...</td>\n",
       "      <td>[{'name': 'Stephen E. Rivkin', 'gender': 0, 'd...</td>\n",
       "      <td>James Cameron</td>\n",
       "      <td>culture clash future space war space colony so...</td>\n",
       "    </tr>\n",
       "    <tr>\n",
       "      <th>1</th>\n",
       "      <td>1</td>\n",
       "      <td>300000000</td>\n",
       "      <td>Adventure Fantasy Action</td>\n",
       "      <td>http://disney.go.com/disneypictures/pirates/</td>\n",
       "      <td>285</td>\n",
       "      <td>ocean drug abuse exotic island east india trad...</td>\n",
       "      <td>en</td>\n",
       "      <td>Pirates of the Caribbean: At World's End</td>\n",
       "      <td>Captain Barbossa, long believed to be dead, ha...</td>\n",
       "      <td>139.082615</td>\n",
       "      <td>...</td>\n",
       "      <td>[{\"iso_639_1\": \"en\", \"name\": \"English\"}]</td>\n",
       "      <td>Released</td>\n",
       "      <td>At the end of the world, the adventure begins.</td>\n",
       "      <td>Pirates of the Caribbean: At World's End</td>\n",
       "      <td>6.9</td>\n",
       "      <td>4500</td>\n",
       "      <td>Johnny Depp Orlando Bloom Keira Knightley Stel...</td>\n",
       "      <td>[{'name': 'Dariusz Wolski', 'gender': 2, 'depa...</td>\n",
       "      <td>Gore Verbinski</td>\n",
       "      <td>ocean drug abuse exotic island east india trad...</td>\n",
       "    </tr>\n",
       "    <tr>\n",
       "      <th>2</th>\n",
       "      <td>2</td>\n",
       "      <td>245000000</td>\n",
       "      <td>Action Adventure Crime</td>\n",
       "      <td>http://www.sonypictures.com/movies/spectre/</td>\n",
       "      <td>206647</td>\n",
       "      <td>spy based on novel secret agent sequel mi6</td>\n",
       "      <td>en</td>\n",
       "      <td>Spectre</td>\n",
       "      <td>A cryptic message from Bond’s past sends him o...</td>\n",
       "      <td>107.376788</td>\n",
       "      <td>...</td>\n",
       "      <td>[{\"iso_639_1\": \"fr\", \"name\": \"Fran\\u00e7ais\"},...</td>\n",
       "      <td>Released</td>\n",
       "      <td>A Plan No One Escapes</td>\n",
       "      <td>Spectre</td>\n",
       "      <td>6.3</td>\n",
       "      <td>4466</td>\n",
       "      <td>Daniel Craig Christoph Waltz L\\u00e9a Seydoux ...</td>\n",
       "      <td>[{'name': 'Thomas Newman', 'gender': 2, 'depar...</td>\n",
       "      <td>Sam Mendes</td>\n",
       "      <td>spy based on novel secret agent sequel mi6 Dan...</td>\n",
       "    </tr>\n",
       "  </tbody>\n",
       "</table>\n",
       "<p>3 rows × 25 columns</p>\n",
       "</div>"
      ],
      "text/plain": [
       "   index     budget                                    genres  \\\n",
       "0      0  237000000  Action Adventure Fantasy Science Fiction   \n",
       "1      1  300000000                  Adventure Fantasy Action   \n",
       "2      2  245000000                    Action Adventure Crime   \n",
       "\n",
       "                                       homepage      id  \\\n",
       "0                   http://www.avatarmovie.com/   19995   \n",
       "1  http://disney.go.com/disneypictures/pirates/     285   \n",
       "2   http://www.sonypictures.com/movies/spectre/  206647   \n",
       "\n",
       "                                            keywords original_language  \\\n",
       "0  culture clash future space war space colony so...                en   \n",
       "1  ocean drug abuse exotic island east india trad...                en   \n",
       "2         spy based on novel secret agent sequel mi6                en   \n",
       "\n",
       "                             original_title  \\\n",
       "0                                    Avatar   \n",
       "1  Pirates of the Caribbean: At World's End   \n",
       "2                                   Spectre   \n",
       "\n",
       "                                            overview  popularity  ...  \\\n",
       "0  In the 22nd century, a paraplegic Marine is di...  150.437577  ...   \n",
       "1  Captain Barbossa, long believed to be dead, ha...  139.082615  ...   \n",
       "2  A cryptic message from Bond’s past sends him o...  107.376788  ...   \n",
       "\n",
       "                                    spoken_languages    status  \\\n",
       "0  [{\"iso_639_1\": \"en\", \"name\": \"English\"}, {\"iso...  Released   \n",
       "1           [{\"iso_639_1\": \"en\", \"name\": \"English\"}]  Released   \n",
       "2  [{\"iso_639_1\": \"fr\", \"name\": \"Fran\\u00e7ais\"},...  Released   \n",
       "\n",
       "                                          tagline  \\\n",
       "0                     Enter the World of Pandora.   \n",
       "1  At the end of the world, the adventure begins.   \n",
       "2                           A Plan No One Escapes   \n",
       "\n",
       "                                      title  vote_average vote_count  \\\n",
       "0                                    Avatar           7.2      11800   \n",
       "1  Pirates of the Caribbean: At World's End           6.9       4500   \n",
       "2                                   Spectre           6.3       4466   \n",
       "\n",
       "                                                cast  \\\n",
       "0  Sam Worthington Zoe Saldana Sigourney Weaver S...   \n",
       "1  Johnny Depp Orlando Bloom Keira Knightley Stel...   \n",
       "2  Daniel Craig Christoph Waltz L\\u00e9a Seydoux ...   \n",
       "\n",
       "                                                crew        director  \\\n",
       "0  [{'name': 'Stephen E. Rivkin', 'gender': 0, 'd...   James Cameron   \n",
       "1  [{'name': 'Dariusz Wolski', 'gender': 2, 'depa...  Gore Verbinski   \n",
       "2  [{'name': 'Thomas Newman', 'gender': 2, 'depar...      Sam Mendes   \n",
       "\n",
       "                                   combined_features  \n",
       "0  culture clash future space war space colony so...  \n",
       "1  ocean drug abuse exotic island east india trad...  \n",
       "2  spy based on novel secret agent sequel mi6 Dan...  \n",
       "\n",
       "[3 rows x 25 columns]"
      ]
     },
     "execution_count": 11,
     "metadata": {},
     "output_type": "execute_result"
    }
   ],
   "source": [
    "df.head(3)"
   ]
  },
  {
   "cell_type": "code",
   "execution_count": 12,
   "metadata": {},
   "outputs": [],
   "source": [
    "count_matrix = CountVectorizer().fit_transform(df['combined_features'])"
   ]
  },
  {
   "cell_type": "code",
   "execution_count": 13,
   "metadata": {},
   "outputs": [
    {
     "name": "stdout",
     "output_type": "stream",
     "text": [
      "[[1.         0.10540926 0.12038585 ... 0.         0.         0.        ]\n",
      " [0.10540926 1.         0.0761387  ... 0.03651484 0.         0.        ]\n",
      " [0.12038585 0.0761387  1.         ... 0.         0.11145564 0.        ]\n",
      " ...\n",
      " [0.         0.03651484 0.         ... 1.         0.         0.04264014]\n",
      " [0.         0.         0.11145564 ... 0.         1.         0.        ]\n",
      " [0.         0.         0.         ... 0.04264014 0.         1.        ]]\n"
     ]
    }
   ],
   "source": [
    "cosine_sim = cosine_similarity(count_matrix)\n",
    "print(cosine_sim)"
   ]
  },
  {
   "cell_type": "code",
   "execution_count": 14,
   "metadata": {},
   "outputs": [
    {
     "data": {
      "text/plain": [
       "(4803, 4803)"
      ]
     },
     "execution_count": 14,
     "metadata": {},
     "output_type": "execute_result"
    }
   ],
   "source": [
    "cosine_sim.shape"
   ]
  },
  {
   "cell_type": "code",
   "execution_count": 15,
   "metadata": {},
   "outputs": [],
   "source": [
    "def get_title_from_index(index):\n",
    "    return df[df.index == index][\"title\"].values[0]\n",
    "def get_index_from_title(title):\n",
    "    return df[df.title == title][\"index\"].values[0]"
   ]
  },
  {
   "cell_type": "code",
   "execution_count": 17,
   "metadata": {},
   "outputs": [],
   "source": [
    "movie_user_likes = \"Thor\"\n",
    "movie_index = get_index_from_title(movie_user_likes)\n",
    "similar_movies = list(enumerate(cosine_sim[movie_index]))"
   ]
  },
  {
   "cell_type": "code",
   "execution_count": 18,
   "metadata": {},
   "outputs": [
    {
     "name": "stdout",
     "output_type": "stream",
     "text": [
      "[(0, 0.12038585308576921), (1, 0.22841609628806428), (2, 0.08695652173913045), (3, 0.08178608201095308), (4, 0.08340576562282992), (5, 0.12510864843424488), (6, 0.0), (7, 0.3045547950507524), (8, 0.1333662673423161), (9, 0.17025130615174974), (10, 0.12510864843424488), (11, 0.08340576562282992), (12, 0.26086956521739135), (13, 0.12510864843424488), (14, 0.15762208124782012), (15, 0.08178608201095308), (16, 0.3745029431365692), (17, 0.1333662673423161), (18, 0.03806934938134405), (19, 0.1333662673423161), (20, 0.21281413268968719), (21, 0.08512565307587487), (22, 0.09567297464698797), (23, 0.13987572123604708), (24, 0.07372097807744857), (25, 0.0), (26, 0.27583864218368526), (27, 0.17025130615174974), (28, 0.1276884796138123), (29, 0.08891084489487741), (30, 0.2044652050273827), (31, 0.16681153124565984), (32, 0.11821656093586509), (33, 0.19702760155977517), (34, 0.0), (35, 0.09100315103865803), (36, 0.08512565307587487), (37, 0.09325048082403138), (38, 0.24535824603285922), (39, 0.08178608201095308), (40, 0.038720154633118314), (41, 0.08178608201095308), (42, 0.044455422447438706), (43, 0.04170288281141496), (44, 0.04550157551932901), (45, 0.04089304100547654), (46, 0.2323209277987099), (47, 0.13987572123604708), (48, 0.09325048082403138), (49, 0.0), (50, 0.12510864843424488), (51, 0.07881104062391006), (52, 0.08891084489487741), (53, 0.1333662673423161), (54, 0.04347826086956522), (55, 0.08891084489487741), (56, 0.13650472655798704), (57, 0.0), (58, 0.09829463743659811), (59, 0.08025723539051281), (60, 0.0), (61, 0.1276884796138123), (62, 0.17782168978975482), (63, 0.08025723539051281), (64, 0.12267912301642962), (65, 0.04089304100547654), (66, 0.03806934938134405), (67, 0.04550157551932901), (68, 0.16681153124565984), (69, 0.042562826537937436), (70, 0.16357216402190616), (71, 0.16151457061744964), (72, 0.12038585308576921), (73, 0.07744030926623663), (74, 0.08891084489487741), (75, 0.09325048082403138), (76, 0.08695652173913045), (77, 0.0), (78, 0.08695652173913045), (79, 0.19702760155977517), (80, 0.18200630207731605), (81, 0.1430397079704303), (82, 0.04347826086956522), (83, 0.09829463743659811), (84, 0.12038585308576921), (85, 0.311187957132071), (86, 0.09100315103865803), (87, 0.044455422447438706), (88, 0.12267912301642962), (89, 0.04347826086956522), (90, 0.1333662673423161), (91, 0.13987572123604708), (92, 0.13650472655798704), (93, 0.040128617695256406), (94, 0.2085144140570748), (95, 0.040128617695256406), (96, 0.12267912301642962), (97, 0.08178608201095308), (98, 0.1333662673423161), (99, 0.042562826537937436), (100, 0.044455422447438706), (101, 0.17782168978975482), (102, 0.12267912301642962), (103, 0.1333662673423161), (104, 0.12510864843424488), (105, 0.04347826086956522), (106, 0.1276884796138123), (107, 0.13650472655798704), (108, 0.08025723539051281), (109, 0.08512565307587487), (110, 0.0), (111, 0.08695652173913045), (112, 0.08695652173913045), (113, 0.08340576562282992), (114, 0.08340576562282992), (115, 0.08340576562282992), (116, 0.03575992699260758), (117, 0.08025723539051281), (118, 0.04089304100547654), (119, 0.04089304100547654), (120, 0.04550157551932901), (121, 0.1276884796138123), (122, 0.1739130434782609), (123, 0.07881104062391006), (124, 0.09325048082403138), (125, 0.0761386987626881), (126, 0.5516772843673704), (127, 0.1276884796138123), (128, 0.17782168978975482), (129, 0.9999999999999999), (130, 0.08025723539051281), (131, 0.13987572123604708), (132, 0.044455422447438706), (133, 0.04170288281141496), (134, 0.13650472655798704), (135, 0.08340576562282992), (136, 0.04089304100547654), (137, 0.0), (138, 0.1333662673423161), (139, 0.13043478260869568), (140, 0.04347826086956522), (141, 0.04347826086956522), (142, 0.044455422447438706), (143, 0.08891084489487741), (144, 0.04347826086956522), (145, 0.040128617695256406), (146, 0.05057217374241736), (147, 0.07744030926623663), (148, 0.1739130434782609), (149, 0.08340576562282992), (150, 0.07744030926623663), (151, 0.17025130615174974), (152, 0.08512565307587487), (153, 0.13650472655798704), (154, 0.08695652173913045), (155, 0.0), (156, 0.08178608201095308), (157, 0.09100315103865803), (158, 0.1333662673423161), (159, 0.08891084489487741), (160, 0.11821656093586509), (161, 0.047836487323493986), (162, 0.05057217374241736), (163, 0.07881104062391006), (164, 0.08891084489487741), (165, 0.044455422447438706), (166, 0.09100315103865803), (167, 0.09100315103865803), (168, 0.12510864843424488), (169, 0.24535824603285922), (170, 0.09100315103865803), (171, 0.04662524041201569), (172, 0.08512565307587487), (173, 0.0), (174, 0.21778620259218837), (175, 0.08178608201095308), (176, 0.07881104062391006), (177, 0.0), (178, 0.044455422447438706), (179, 0.14350946197048195), (180, 0.04347826086956522), (181, 0.04347826086956522), (182, 0.20064308847628204), (183, 0.12510864843424488), (184, 0.04170288281141496), (185, 0.12510864843424488), (186, 0.08178608201095308), (187, 0.21281413268968719), (188, 0.04550157551932901), (189, 0.14744195615489716), (190, 0.04347826086956522), (191, 0.08512565307587487), (192, 0.0), (193, 0.09325048082403138), (194, 0.0), (195, 0.08025723539051281), (196, 0.08178608201095308), (197, 0.1739130434782609), (198, 0.08695652173913045), (199, 0.12510864843424488), (200, 0.08512565307587487), (201, 0.044455422447438706), (202, 0.04347826086956522), (203, 0.19702760155977517), (204, 0.044455422447438706), (205, 0.08891084489487741), (206, 0.13043478260869568), (207, 0.08695652173913045), (208, 0.13650472655798704), (209, 0.04550157551932901), (210, 0.12038585308576921), (211, 0.08695652173913045), (212, 0.08178608201095308), (213, 0.13650472655798704), (214, 0.0), (215, 0.18200630207731605), (216, 0.09325048082403138), (217, 0.0761386987626881), (218, 0.049147318718299055), (219, 0.09100315103865803), (220, 0.04347826086956522), (221, 0.04347826086956522), (222, 0.044455422447438706), (223, 0.04089304100547654), (224, 0.044455422447438706), (225, 0.04089304100547654), (226, 0.0), (227, 0.09100315103865803), (228, 0.13043478260869568), (229, 0.1739130434782609), (230, 0.17782168978975482), (231, 0.0), (232, 0.2085144140570748), (233, 0.18200630207731605), (234, 0.12267912301642962), (235, 0.08512565307587487), (236, 0.040128617695256406), (237, 0.1739130434782609), (238, 0.1276884796138123), (239, 0.0), (240, 0.08695652173913045), (241, 0.15762208124782012), (242, 0.17782168978975482), (243, 0.12510864843424488), (244, 0.04550157551932901), (245, 0.08512565307587487), (246, 0.04089304100547654), (247, 0.0), (248, 0.04170288281141496), (249, 0.042562826537937436), (250, 0.0), (251, 0.04662524041201569), (252, 0.04550157551932901), (253, 0.038720154633118314), (254, 0.11235088294097074), (255, 0.0), (256, 0.042562826537937436), (257, 0.08695652173913045), (258, 0.042562826537937436), (259, 0.09100315103865803), (260, 0.08340576562282992), (261, 0.049147318718299055), (262, 0.1333662673423161), (263, 0.12510864843424488), (264, 0.0), (265, 0.04347826086956522), (266, 0.04170288281141496), (267, 0.08340576562282992), (268, 0.040128617695256406), (269, 0.0), (270, 0.042562826537937436), (271, 0.08340576562282992), (272, 0.0), (273, 0.03940552031195503), (274, 0.09100315103865803), (275, 0.08340576562282992), (276, 0.1276884796138123), (277, 0.09325048082403138), (278, 0.0761386987626881), (279, 0.04347826086956522), (280, 0.0), (281, 0.0), (282, 0.08891084489487741), (283, 0.07049073768502413), (284, 0.0), (285, 0.04170288281141496), (286, 0.04347826086956522), (287, 0.0), (288, 0.044455422447438706), (289, 0.08340576562282992), (290, 0.08340576562282992), (291, 0.08025723539051281), (292, 0.15762208124782012), (293, 0.04089304100547654), (294, 0.18200630207731605), (295, 0.04089304100547654), (296, 0.13043478260869568), (297, 0.044455422447438706), (298, 0.0), (299, 0.13043478260869568), (300, 0.08178608201095308), (301, 0.08340576562282992), (302, 0.09829463743659811), (303, 0.04662524041201569), (304, 0.09325048082403138), (305, 0.0761386987626881), (306, 0.044455422447438706), (307, 0.08891084489487741), (308, 0.03940552031195503), (309, 0.09567297464698797), (310, 0.17782168978975482), (311, 0.04550157551932901), (312, 0.08512565307587487), (313, 0.04347826086956522), (314, 0.0), (315, 0.14350946197048195), (316, 0.0), (317, 0.0), (318, 0.0), (319, 0.047836487323493986), (320, 0.08512565307587487), (321, 0.0), (322, 0.1739130434782609), (323, 0.05057217374241736), (324, 0.1333662673423161), (325, 0.08025723539051281), (326, 0.2553769592276246), (327, 0.047836487323493986), (328, 0.0), (329, 0.1276884796138123), (330, 0.1276884796138123), (331, 0.12038585308576921), (332, 0.1276884796138123), (333, 0.0), (334, 0.08512565307587487), (335, 0.08512565307587487), (336, 0.07151985398521515), (337, 0.035245368842512066), (338, 0.0), (339, 0.08512565307587487), (340, 0.09325048082403138), (341, 0.13043478260869568), (342, 0.08025723539051281), (343, 0.044455422447438706), (344, 0.10425720702853739), (345, 0.09829463743659811), (346, 0.0), (347, 0.0), (348, 0.044455422447438706), (349, 0.08340576562282992), (350, 0.08891084489487741), (351, 0.0), (352, 0.04550157551932901), (353, 0.040128617695256406), (354, 0.1276884796138123), (355, 0.047836487323493986), (356, 0.08512565307587487), (357, 0.0), (358, 0.040128617695256406), (359, 0.04347826086956522), (360, 0.1333662673423161), (361, 0.09100315103865803), (362, 0.08695652173913045), (363, 0.04170288281141496), (364, 0.03940552031195503), (365, 0.12267912301642962), (366, 0.04089304100547654), (367, 0.044455422447438706), (368, 0.09100315103865803), (369, 0.1276884796138123), (370, 0.08512565307587487), (371, 0.08340576562282992), (372, 0.04662524041201569), (373, 0.0), (374, 0.04550157551932901), (375, 0.04662524041201569), (376, 0.042562826537937436), (377, 0.044455422447438706), (378, 0.0), (379, 0.1276884796138123), (380, 0.0), (381, 0.10114434748483472), (382, 0.04550157551932901), (383, 0.08512565307587487), (384, 0.1333662673423161), (385, 0.0), (386, 0.044455422447438706), (387, 0.04662524041201569), (388, 0.0), (389, 0.08512565307587487), (390, 0.04550157551932901), (391, 0.044455422447438706), (392, 0.042562826537937436), (393, 0.0), (394, 0.04662524041201569), (395, 0.0), (396, 0.04550157551932901), (397, 0.0), (398, 0.0), (399, 0.04550157551932901), (400, 0.08340576562282992), (401, 0.0), (402, 0.07881104062391006), (403, 0.11821656093586509), (404, 0.0), (405, 0.03427955850955305), (406, 0.0), (407, 0.11235088294097074), (408, 0.04662524041201569), (409, 0.0), (410, 0.12267912301642962), (411, 0.11821656093586509), (412, 0.08178608201095308), (413, 0.042562826537937436), (414, 0.04347826086956522), (415, 0.04550157551932901), (416, 0.042562826537937436), (417, 0.04550157551932901), (418, 0.0), (419, 0.08340576562282992), (420, 0.08695652173913045), (421, 0.04347826086956522), (422, 0.0), (423, 0.08891084489487741), (424, 0.08340576562282992), (425, 0.1333662673423161), (426, 0.12510864843424488), (427, 0.0), (428, 0.08512565307587487), (429, 0.0), (430, 0.07744030926623663), (431, 0.04550157551932901), (432, 0.044455422447438706), (433, 0.13043478260869568), (434, 0.047836487323493986), (435, 0.044455422447438706), (436, 0.05783149319662403), (437, 0.04662524041201569), (438, 0.0), (439, 0.0), (440, 0.0), (441, 0.044455422447438706), (442, 0.038720154633118314), (443, 0.04089304100547654), (444, 0.037450294313656915), (445, 0.0), (446, 0.04347826086956522), (447, 0.09100315103865803), (448, 0.030743773095067286), (449, 0.044455422447438706), (450, 0.0), (451, 0.04089304100547654), (452, 0.037450294313656915), (453, 0.04347826086956522), (454, 0.0), (455, 0.08891084489487741), (456, 0.03806934938134405), (457, 0.09567297464698797), (458, 0.09100315103865803), (459, 0.04347826086956522), (460, 0.0), (461, 0.08891084489487741), (462, 0.0), (463, 0.0), (464, 0.0), (465, 0.0), (466, 0.09567297464698797), (467, 0.13987572123604708), (468, 0.044455422447438706), (469, 0.12510864843424488), (470, 0.04347826086956522), (471, 0.08178608201095308), (472, 0.12510864843424488), (473, 0.04089304100547654), (474, 0.0), (475, 0.18650096164806276), (476, 0.049147318718299055), (477, 0.0), (478, 0.13650472655798704), (479, 0.05057217374241736), (480, 0.04170288281141496), (481, 0.0), (482, 0.0), (483, 0.08340576562282992), (484, 0.08695652173913045), (485, 0.08512565307587487), (486, 0.17025130615174974), (487, 0.08512565307587487), (488, 0.08178608201095308), (489, 0.0), (490, 0.08512565307587487), (491, 0.08025723539051281), (492, 0.0), (493, 0.0), (494, 0.0), (495, 0.08512565307587487), (496, 0.0), (497, 0.09325048082403138), (498, 0.04550157551932901), (499, 0.0), (500, 0.03940552031195503), (501, 0.1333662673423161), (502, 0.0), (503, 0.1057361065275362), (504, 0.049147318718299055), (505, 0.08340576562282992), (506, 0.0), (507, 0.09100315103865803), (508, 0.08695652173913045), (509, 0.04550157551932901), (510, 0.042562826537937436), (511, 0.20064308847628204), (512, 0.040128617695256406), (513, 0.08695652173913045), (514, 0.037450294313656915), (515, 0.0), (516, 0.0), (517, 0.13650472655798704), (518, 0.10114434748483472), (519, 0.0), (520, 0.0), (521, 0.08891084489487741), (522, 0.0), (523, 0.13987572123604708), (524, 0.044455422447438706), (525, 0.03940552031195503), (526, 0.0), (527, 0.0), (528, 0.04347826086956522), (529, 0.049147318718299055), (530, 0.10114434748483472), (531, 0.12510864843424488), (532, 0.0), (533, 0.04550157551932901), (534, 0.047836487323493986), (535, 0.08178608201095308), (536, 0.038720154633118314), (537, 0.09325048082403138), (538, 0.0), (539, 0.08695652173913045), (540, 0.09567297464698797), (541, 0.04089304100547654), (542, 0.08512565307587487), (543, 0.17025130615174974), (544, 0.08695652173913045), (545, 0.03940552031195503), (546, 0.044455422447438706), (547, 0.1333662673423161), (548, 0.0), (549, 0.0), (550, 0.0), (551, 0.04550157551932901), (552, 0.0), (553, 0.09325048082403138), (554, 0.0), (555, 0.04170288281141496), (556, 0.03940552031195503), (557, 0.0), (558, 0.0), (559, 0.0), (560, 0.04662524041201569), (561, 0.034752402342845795), (562, 0.0), (563, 0.04662524041201569), (564, 0.0), (565, 0.08512565307587487), (566, 0.03806934938134405), (567, 0.0), (568, 0.08695652173913045), (569, 0.08695652173913045), (570, 0.04347826086956522), (571, 0.044455422447438706), (572, 0.1276884796138123), (573, 0.04550157551932901), (574, 0.042562826537937436), (575, 0.04089304100547654), (576, 0.03940552031195503), (577, 0.08512565307587487), (578, 0.04089304100547654), (579, 0.08178608201095308), (580, 0.04662524041201569), (581, 0.07881104062391006), (582, 0.04170288281141496), (583, 0.08695652173913045), (584, 0.05057217374241736), (585, 0.08695652173913045), (586, 0.03296902366978935), (587, 0.08178608201095308), (588, 0.0), (589, 0.08695652173913045), (590, 0.044455422447438706), (591, 0.12510864843424488), (592, 0.044455422447438706), (593, 0.0), (594, 0.22750787759664506), (595, 0.08178608201095308), (596, 0.08512565307587487), (597, 0.08695652173913045), (598, 0.04347826086956522), (599, 0.0), (600, 0.10114434748483472), (601, 0.09100315103865803), (602, 0.09100315103865803), (603, 0.0), (604, 0.1276884796138123), (605, 0.0), (606, 0.08891084489487741), (607, 0.08178608201095308), (608, 0.0), (609, 0.04550157551932901), (610, 0.08891084489487741), (611, 0.042562826537937436), (612, 0.09100315103865803), (613, 0.04347826086956522), (614, 0.0), (615, 0.14098147537004826), (616, 0.0), (617, 0.08891084489487741), (618, 0.1276884796138123), (619, 0.0), (620, 0.0), (621, 0.07881104062391006), (622, 0.04170288281141496), (623, 0.0), (624, 0.12267912301642962), (625, 0.042562826537937436), (626, 0.0), (627, 0.10889310129609417), (628, 0.06019292654288461), (629, 0.037450294313656915), (630, 0.0), (631, 0.08178608201095308), (632, 0.0), (633, 0.0), (634, 0.04089304100547654), (635, 0.04662524041201569), (636, 0.044455422447438706), (637, 0.04550157551932901), (638, 0.044455422447438706), (639, 0.0), (640, 0.17782168978975482), (641, 0.0), (642, 0.0), (643, 0.08025723539051281), (644, 0.09100315103865803), (645, 0.08512565307587487), (646, 0.04170288281141496), (647, 0.0), (648, 0.0), (649, 0.0), (650, 0.042562826537937436), (651, 0.0), (652, 0.0), (653, 0.1333662673423161), (654, 0.08512565307587487), (655, 0.04550157551932901), (656, 0.0), (657, 0.044455422447438706), (658, 0.07372097807744857), (659, 0.08891084489487741), (660, 0.1276884796138123), (661, 0.12267912301642962), (662, 0.0), (663, 0.04662524041201569), (664, 0.08891084489487741), (665, 0.08178608201095308), (666, 0.04662524041201569), (667, 0.0), (668, 0.12267912301642962), (669, 0.0), (670, 0.0), (671, 0.04347826086956522), (672, 0.08891084489487741), (673, 0.0), (674, 0.049147318718299055), (675, 0.044455422447438706), (676, 0.04347826086956522), (677, 0.04550157551932901), (678, 0.10767638041163309), (679, 0.0), (680, 0.04089304100547654), (681, 0.040128617695256406), (682, 0.0), (683, 0.07372097807744857), (684, 0.0), (685, 0.042562826537937436), (686, 0.0), (687, 0.1333662673423161), (688, 0.0), (689, 0.0), (690, 0.08178608201095308), (691, 0.08340576562282992), (692, 0.0), (693, 0.0), (694, 0.08340576562282992), (695, 0.08025723539051281), (696, 0.0), (697, 0.0), (698, 0.044455422447438706), (699, 0.0), (700, 0.08025723539051281), (701, 0.0), (702, 0.04662524041201569), (703, 0.042562826537937436), (704, 0.04550157551932901), (705, 0.0), (706, 0.09100315103865803), (707, 0.04662524041201569), (708, 0.044455422447438706), (709, 0.0), (710, 0.04170288281141496), (711, 0.08178608201095308), (712, 0.0), (713, 0.03940552031195503), (714, 0.042562826537937436), (715, 0.14744195615489716), (716, 0.049147318718299055), (717, 0.044455422447438706), (718, 0.036860489038724284), (719, 0.0), (720, 0.0), (721, 0.09100315103865803), (722, 0.0), (723, 0.0), (724, 0.13650472655798704), (725, 0.0), (726, 0.0), (727, 0.0), (728, 0.08340576562282992), (729, 0.0), (730, 0.04347826086956522), (731, 0.09325048082403138), (732, 0.08891084489487741), (733, 0.0), (734, 0.04550157551932901), (735, 0.042562826537937436), (736, 0.04662524041201569), (737, 0.25021729686848976), (738, 0.0), (739, 0.044455422447438706), (740, 0.044455422447438706), (741, 0.04170288281141496), (742, 0.07744030926623663), (743, 0.04550157551932901), (744, 0.15762208124782012), (745, 0.044455422447438706), (746, 0.13043478260869568), (747, 0.047836487323493986), (748, 0.04662524041201569), (749, 0.0), (750, 0.049147318718299055), (751, 0.047836487323493986), (752, 0.0), (753, 0.049147318718299055), (754, 0.03575992699260758), (755, 0.08891084489487741), (756, 0.0), (757, 0.0), (758, 0.0), (759, 0.04089304100547654), (760, 0.0), (761, 0.04347826086956522), (762, 0.04347826086956522), (763, 0.0), (764, 0.04550157551932901), (765, 0.0), (766, 0.0), (767, 0.08512565307587487), (768, 0.08178608201095308), (769, 0.047836487323493986), (770, 0.0), (771, 0.04550157551932901), (772, 0.0), (773, 0.09325048082403138), (774, 0.05057217374241736), (775, 0.0), (776, 0.04662524041201569), (777, 0.08695652173913045), (778, 0.12267912301642962), (779, 0.0), (780, 0.0), (781, 0.1276884796138123), (782, 0.08025723539051281), (783, 0.04170288281141496), (784, 0.16357216402190616), (785, 0.04170288281141496), (786, 0.14744195615489716), (787, 0.03629770043203139), (788, 0.19702760155977517), (789, 0.0), (790, 0.04662524041201569), (791, 0.08891084489487741), (792, 0.040128617695256406), (793, 0.0), (794, 0.08512565307587487), (795, 0.0), (796, 0.0), (797, 0.0), (798, 0.03806934938134405), (799, 0.08512565307587487), (800, 0.11616046389935494), (801, 0.0), (802, 0.0), (803, 0.049147318718299055), (804, 0.04550157551932901), (805, 0.1739130434782609), (806, 0.0), (807, 0.08340576562282992), (808, 0.08891084489487741), (809, 0.042562826537937436), (810, 0.04089304100547654), (811, 0.0), (812, 0.042562826537937436), (813, 0.12038585308576921), (814, 0.08512565307587487), (815, 0.0), (816, 0.042562826537937436), (817, 0.0), (818, 0.13987572123604708), (819, 0.0), (820, 0.04662524041201569), (821, 0.044455422447438706), (822, 0.0), (823, 0.04347826086956522), (824, 0.0), (825, 0.0), (826, 0.0), (827, 0.044455422447438706), (828, 0.04550157551932901), (829, 0.0), (830, 0.038720154633118314), (831, 0.09100315103865803), (832, 0.047836487323493986), (833, 0.1333662673423161), (834, 0.09100315103865803), (835, 0.0), (836, 0.1333662673423161), (837, 0.0), (838, 0.042562826537937436), (839, 0.0), (840, 0.21281413268968719), (841, 0.13650472655798704), (842, 0.0), (843, 0.0), (844, 0.042562826537937436), (845, 0.09100315103865803), (846, 0.0), (847, 0.0), (848, 0.044455422447438706), (849, 0.0), (850, 0.04170288281141496), (851, 0.0), (852, 0.0), (853, 0.04662524041201569), (854, 0.042562826537937436), (855, 0.0), (856, 0.04550157551932901), (857, 0.0), (858, 0.047836487323493986), (859, 0.11420804814403215), (860, 0.0), (861, 0.0), (862, 0.0), (863, 0.09100315103865803), (864, 0.08891084489487741), (865, 0.0), (866, 0.05212860351426869), (867, 0.04089304100547654), (868, 0.04170288281141496), (869, 0.04662524041201569), (870, 0.15762208124782012), (871, 0.044455422447438706), (872, 0.0), (873, 0.08178608201095308), (874, 0.0), (875, 0.0), (876, 0.0), (877, 0.0), (878, 0.0), (879, 0.0), (880, 0.04550157551932901), (881, 0.0), (882, 0.0), (883, 0.042562826537937436), (884, 0.04662524041201569), (885, 0.0), (886, 0.13043478260869568), (887, 0.0), (888, 0.09100315103865803), (889, 0.0), (890, 0.0), (891, 0.0), (892, 0.0), (893, 0.04550157551932901), (894, 0.08695652173913045), (895, 0.047836487323493986), (896, 0.0), (897, 0.0), (898, 0.1333662673423161), (899, 0.08695652173913045), (900, 0.04550157551932901), (901, 0.04347826086956522), (902, 0.044455422447438706), (903, 0.038720154633118314), (904, 0.0), (905, 0.047836487323493986), (906, 0.0), (907, 0.04347826086956522), (908, 0.0), (909, 0.0), (910, 0.04550157551932901), (911, 0.04170288281141496), (912, 0.04662524041201569), (913, 0.0), (914, 0.042562826537937436), (915, 0.044455422447438706), (916, 0.0), (917, 0.09100315103865803), (918, 0.0), (919, 0.09100315103865803), (920, 0.08340576562282992), (921, 0.0), (922, 0.08025723539051281), (923, 0.04089304100547654), (924, 0.0), (925, 0.0), (926, 0.0), (927, 0.0), (928, 0.04550157551932901), (929, 0.04347826086956522), (930, 0.04170288281141496), (931, 0.13043478260869568), (932, 0.17782168978975482), (933, 0.08512565307587487), (934, 0.04347826086956522), (935, 0.08178608201095308), (936, 0.0), (937, 0.08695652173913045), (938, 0.0), (939, 0.07744030926623663), (940, 0.04550157551932901), (941, 0.04089304100547654), (942, 0.04170288281141496), (943, 0.0), (944, 0.0), (945, 0.04550157551932901), (946, 0.0), (947, 0.0), (948, 0.0), (949, 0.04347826086956522), (950, 0.08891084489487741), (951, 0.044455422447438706), (952, 0.04550157551932901), (953, 0.08695652173913045), (954, 0.0), (955, 0.04347826086956522), (956, 0.044455422447438706), (957, 0.0), (958, 0.0), (959, 0.04347826086956522), (960, 0.04550157551932901), (961, 0.04347826086956522), (962, 0.040128617695256406), (963, 0.04347826086956522), (964, 0.0), (965, 0.0), (966, 0.053838190205816545), (967, 0.05212860351426869), (968, 0.0), (969, 0.09100315103865803), (970, 0.0), (971, 0.0), (972, 0.08025723539051281), (973, 0.037450294313656915), (974, 0.0), (975, 0.049147318718299055), (976, 0.08340576562282992), (977, 0.0761386987626881), (978, 0.042562826537937436), (979, 0.042562826537937436), (980, 0.0), (981, 0.05057217374241736), (982, 0.04170288281141496), (983, 0.0), (984, 0.08695652173913045), (985, 0.08891084489487741), (986, 0.09567297464698797), (987, 0.0), (988, 0.04347826086956522), (989, 0.08512565307587487), (990, 0.0), (991, 0.0), (992, 0.04662524041201569), (993, 0.04550157551932901), (994, 0.04170288281141496), (995, 0.044455422447438706), (996, 0.0), (997, 0.0), (998, 0.0), (999, 0.0), (1000, 0.08340576562282992), (1001, 0.12038585308576921), (1002, 0.04662524041201569), (1003, 0.03806934938134405), (1004, 0.04347826086956522), (1005, 0.03575992699260758), (1006, 0.08695652173913045), (1007, 0.0), (1008, 0.04089304100547654), (1009, 0.0), (1010, 0.0), (1011, 0.0), (1012, 0.08891084489487741), (1013, 0.04347826086956522), (1014, 0.04550157551932901), (1015, 0.0), (1016, 0.040128617695256406), (1017, 0.03806934938134405), (1018, 0.0), (1019, 0.0), (1020, 0.04550157551932901), (1021, 0.0), (1022, 0.0), (1023, 0.0), (1024, 0.11058146711617285), (1025, 0.0), (1026, 0.0), (1027, 0.08512565307587487), (1028, 0.038720154633118314), (1029, 0.038720154633118314), (1030, 0.0), (1031, 0.04170288281141496), (1032, 0.0), (1033, 0.0), (1034, 0.08178608201095308), (1035, 0.08512565307587487), (1036, 0.0), (1037, 0.04662524041201569), (1038, 0.0), (1039, 0.0), (1040, 0.040128617695256406), (1041, 0.04347826086956522), (1042, 0.0), (1043, 0.04662524041201569), (1044, 0.07881104062391006), (1045, 0.0), (1046, 0.0), (1047, 0.035245368842512066), (1048, 0.0), (1049, 0.044455422447438706), (1050, 0.0), (1051, 0.0), (1052, 0.07744030926623663), (1053, 0.0), (1054, 0.0), (1055, 0.0), (1056, 0.04550157551932901), (1057, 0.0), (1058, 0.1333662673423161), (1059, 0.044455422447438706), (1060, 0.0), (1061, 0.0), (1062, 0.044455422447438706), (1063, 0.0), (1064, 0.049147318718299055), (1065, 0.0), (1066, 0.04662524041201569), (1067, 0.0), (1068, 0.042562826537937436), (1069, 0.0), (1070, 0.044455422447438706), (1071, 0.0), (1072, 0.053838190205816545), (1073, 0.08340576562282992), (1074, 0.08695652173913045), (1075, 0.0), (1076, 0.1333662673423161), (1077, 0.13650472655798704), (1078, 0.08178608201095308), (1079, 0.08695652173913045), (1080, 0.04170288281141496), (1081, 0.0), (1082, 0.07744030926623663), (1083, 0.08891084489487741), (1084, 0.08025723539051281), (1085, 0.04170288281141496), (1086, 0.11821656093586509), (1087, 0.0), (1088, 0.0), (1089, 0.08891084489487741), (1090, 0.0), (1091, 0.08891084489487741), (1092, 0.044455422447438706), (1093, 0.12510864843424488), (1094, 0.0), (1095, 0.08695652173913045), (1096, 0.04550157551932901), (1097, 0.05212860351426869), (1098, 0.044455422447438706), (1099, 0.05572782125753529), (1100, 0.08340576562282992), (1101, 0.04170288281141496), (1102, 0.0), (1103, 0.08512565307587487), (1104, 0.044455422447438706), (1105, 0.0), (1106, 0.08025723539051281), (1107, 0.0), (1108, 0.0), (1109, 0.04550157551932901), (1110, 0.08891084489487741), (1111, 0.0), (1112, 0.0), (1113, 0.0), (1114, 0.047836487323493986), (1115, 0.0), (1116, 0.04347826086956522), (1117, 0.0), (1118, 0.04550157551932901), (1119, 0.04089304100547654), (1120, 0.04347826086956522), (1121, 0.0), (1122, 0.0), (1123, 0.0), (1124, 0.044455422447438706), (1125, 0.0), (1126, 0.0), (1127, 0.0), (1128, 0.0), (1129, 0.0), (1130, 0.0), (1131, 0.1276884796138123), (1132, 0.08695652173913045), (1133, 0.08695652173913045), (1134, 0.0761386987626881), (1135, 0.0), (1136, 0.07881104062391006), (1137, 0.04170288281141496), (1138, 0.040128617695256406), (1139, 0.1276884796138123), (1140, 0.04089304100547654), (1141, 0.0), (1142, 0.04170288281141496), (1143, 0.09100315103865803), (1144, 0.08340576562282992), (1145, 0.0), (1146, 0.08025723539051281), (1147, 0.0), (1148, 0.0), (1149, 0.0), (1150, 0.0), (1151, 0.038720154633118314), (1152, 0.04089304100547654), (1153, 0.04089304100547654), (1154, 0.0), (1155, 0.08340576562282992), (1156, 0.0), (1157, 0.09100315103865803), (1158, 0.04170288281141496), (1159, 0.04347826086956522), (1160, 0.0), (1161, 0.04662524041201569), (1162, 0.0), (1163, 0.04662524041201569), (1164, 0.0), (1165, 0.04170288281141496), (1166, 0.0), (1167, 0.09325048082403138), (1168, 0.047836487323493986), (1169, 0.0), (1170, 0.08891084489487741), (1171, 0.0), (1172, 0.04550157551932901), (1173, 0.0), (1174, 0.035245368842512066), (1175, 0.07744030926623663), (1176, 0.0), (1177, 0.0685591170191061), (1178, 0.044455422447438706), (1179, 0.0), (1180, 0.0), (1181, 0.04170288281141496), (1182, 0.0), (1183, 0.05057217374241736), (1184, 0.0), (1185, 0.0), (1186, 0.0), (1187, 0.04550157551932901), (1188, 0.03940552031195503), (1189, 0.0), (1190, 0.0), (1191, 0.11821656093586509), (1192, 0.14980117725462766), (1193, 0.07259540086406278), (1194, 0.0), (1195, 0.042562826537937436), (1196, 0.0), (1197, 0.0), (1198, 0.04089304100547654), (1199, 0.08340576562282992), (1200, 0.0761386987626881), (1201, 0.08025723539051281), (1202, 0.0), (1203, 0.0), (1204, 0.0), (1205, 0.0), (1206, 0.04662524041201569), (1207, 0.04089304100547654), (1208, 0.0), (1209, 0.0), (1210, 0.0), (1211, 0.09100315103865803), (1212, 0.04550157551932901), (1213, 0.08512565307587487), (1214, 0.0), (1215, 0.07881104062391006), (1216, 0.0), (1217, 0.03806934938134405), (1218, 0.0), (1219, 0.0), (1220, 0.08025723539051281), (1221, 0.0), (1222, 0.0), (1223, 0.0), (1224, 0.0), (1225, 0.040128617695256406), (1226, 0.0), (1227, 0.0), (1228, 0.0), (1229, 0.0), (1230, 0.16357216402190616), (1231, 0.042562826537937436), (1232, 0.0), (1233, 0.0), (1234, 0.08340576562282992), (1235, 0.09325048082403138), (1236, 0.0), (1237, 0.05057217374241736), (1238, 0.04550157551932901), (1239, 0.08340576562282992), (1240, 0.08512565307587487), (1241, 0.0), (1242, 0.04662524041201569), (1243, 0.0), (1244, 0.0), (1245, 0.042562826537937436), (1246, 0.049147318718299055), (1247, 0.0), (1248, 0.0), (1249, 0.047836487323493986), (1250, 0.0), (1251, 0.0), (1252, 0.0), (1253, 0.05057217374241736), (1254, 0.04347826086956522), (1255, 0.044455422447438706), (1256, 0.09100315103865803), (1257, 0.04550157551932901), (1258, 0.0), (1259, 0.049147318718299055), (1260, 0.0), (1261, 0.0), (1262, 0.042562826537937436), (1263, 0.04662524041201569), (1264, 0.0), (1265, 0.0), (1266, 0.17782168978975482), (1267, 0.053838190205816545), (1268, 0.0), (1269, 0.053838190205816545), (1270, 0.08178608201095308), (1271, 0.044455422447438706), (1272, 0.04662524041201569), (1273, 0.10114434748483472), (1274, 0.036860489038724284), (1275, 0.04347826086956522), (1276, 0.0), (1277, 0.13987572123604708), (1278, 0.05057217374241736), (1279, 0.08512565307587487), (1280, 0.0), (1281, 0.040128617695256406), (1282, 0.08512565307587487), (1283, 0.04550157551932901), (1284, 0.04347826086956522), (1285, 0.05057217374241736), (1286, 0.07881104062391006), (1287, 0.08695652173913045), (1288, 0.05572782125753529), (1289, 0.09829463743659811), (1290, 0.08340576562282992), (1291, 0.044455422447438706), (1292, 0.08512565307587487), (1293, 0.0), (1294, 0.08695652173913045), (1295, 0.0), (1296, 0.11058146711617285), (1297, 0.0), (1298, 0.08178608201095308), (1299, 0.04347826086956522), (1300, 0.0), (1301, 0.0), (1302, 0.09100315103865803), (1303, 0.07881104062391006), (1304, 0.03629770043203139), (1305, 0.0), (1306, 0.10114434748483472), (1307, 0.0), (1308, 0.0), (1309, 0.0), (1310, 0.044455422447438706), (1311, 0.0), (1312, 0.0), (1313, 0.042562826537937436), (1314, 0.04550157551932901), (1315, 0.0), (1316, 0.0), (1317, 0.04089304100547654), (1318, 0.0), (1319, 0.044455422447438706), (1320, 0.08891084489487741), (1321, 0.04550157551932901), (1322, 0.12510864843424488), (1323, 0.0), (1324, 0.10114434748483472), (1325, 0.0), (1326, 0.040128617695256406), (1327, 0.0), (1328, 0.0), (1329, 0.0), (1330, 0.0), (1331, 0.08695652173913045), (1332, 0.16357216402190616), (1333, 0.04170288281141496), (1334, 0.08178608201095308), (1335, 0.042562826537937436), (1336, 0.0), (1337, 0.08891084489487741), (1338, 0.0), (1339, 0.04089304100547654), (1340, 0.04347826086956522), (1341, 0.06148754619013457), (1342, 0.047836487323493986), (1343, 0.08891084489487741), (1344, 0.038720154633118314), (1345, 0.0), (1346, 0.0), (1347, 0.04550157551932901), (1348, 0.0), (1349, 0.0), (1350, 0.0), (1351, 0.08891084489487741), (1352, 0.0), (1353, 0.0), (1354, 0.0), (1355, 0.0761386987626881), (1356, 0.0), (1357, 0.05212860351426869), (1358, 0.042562826537937436), (1359, 0.08340576562282992), (1360, 0.0), (1361, 0.07881104062391006), (1362, 0.0), (1363, 0.07259540086406278), (1364, 0.0), (1365, 0.04089304100547654), (1366, 0.0), (1367, 0.04170288281141496), (1368, 0.0), (1369, 0.0), (1370, 0.0), (1371, 0.0), (1372, 0.0), (1373, 0.04170288281141496), (1374, 0.0), (1375, 0.044455422447438706), (1376, 0.047836487323493986), (1377, 0.04550157551932901), (1378, 0.0), (1379, 0.0), (1380, 0.09567297464698797), (1381, 0.0), (1382, 0.11420804814403215), (1383, 0.0), (1384, 0.0), (1385, 0.0), (1386, 0.04662524041201569), (1387, 0.04347826086956522), (1388, 0.0), (1389, 0.0), (1390, 0.13043478260869568), (1391, 0.04550157551932901), (1392, 0.0), (1393, 0.0), (1394, 0.0), (1395, 0.04550157551932901), (1396, 0.0), (1397, 0.04662524041201569), (1398, 0.09829463743659811), (1399, 0.04170288281141496), (1400, 0.04089304100547654), (1401, 0.04347826086956522), (1402, 0.1333662673423161), (1403, 0.0), (1404, 0.06950480468569159), (1405, 0.0), (1406, 0.0), (1407, 0.0), (1408, 0.08178608201095308), (1409, 0.04662524041201569), (1410, 0.0), (1411, 0.04550157551932901), (1412, 0.07744030926623663), (1413, 0.0), (1414, 0.0), (1415, 0.0), (1416, 0.0), (1417, 0.049147318718299055), (1418, 0.0), (1419, 0.044455422447438706), (1420, 0.08695652173913045), (1421, 0.0), (1422, 0.04170288281141496), (1423, 0.044455422447438706), (1424, 0.0), (1425, 0.04662524041201569), (1426, 0.04662524041201569), (1427, 0.0), (1428, 0.04347826086956522), (1429, 0.0), (1430, 0.0), (1431, 0.07881104062391006), (1432, 0.04170288281141496), (1433, 0.04550157551932901), (1434, 0.047836487323493986), (1435, 0.04347826086956522), (1436, 0.0), (1437, 0.04550157551932901), (1438, 0.1739130434782609), (1439, 0.14744195615489714), (1440, 0.1333662673423161), (1441, 0.0), (1442, 0.0), (1443, 0.04550157551932901), (1444, 0.0), (1445, 0.13043478260869568), (1446, 0.04089304100547654), (1447, 0.09100315103865803), (1448, 0.047836487323493986), (1449, 0.04347826086956522), (1450, 0.042562826537937436), (1451, 0.04550157551932901), (1452, 0.03940552031195503), (1453, 0.09325048082403138), (1454, 0.03940552031195503), (1455, 0.0), (1456, 0.044455422447438706), (1457, 0.08891084489487741), (1458, 0.044455422447438706), (1459, 0.08340576562282992), (1460, 0.08512565307587487), (1461, 0.0), (1462, 0.0), (1463, 0.08025723539051281), (1464, 0.0), (1465, 0.04089304100547654), (1466, 0.0), (1467, 0.044455422447438706), (1468, 0.04089304100547654), (1469, 0.047836487323493986), (1470, 0.04550157551932901), (1471, 0.0), (1472, 0.0), (1473, 0.0), (1474, 0.05057217374241736), (1475, 0.0), (1476, 0.0), (1477, 0.0), (1478, 0.04347826086956522), (1479, 0.09829463743659811), (1480, 0.0), (1481, 0.09567297464698797), (1482, 0.08178608201095308), (1483, 0.0), (1484, 0.04347826086956522), (1485, 0.044455422447438706), (1486, 0.044455422447438706), (1487, 0.0), (1488, 0.09829463743659811), (1489, 0.0), (1490, 0.11616046389935494), (1491, 0.04347826086956522), (1492, 0.0), (1493, 0.0), (1494, 0.042562826537937436), (1495, 0.042562826537937436), (1496, 0.044455422447438706), (1497, 0.04089304100547654), (1498, 0.0), (1499, 0.0), (1500, 0.04347826086956522), (1501, 0.0), (1502, 0.0), (1503, 0.10114434748483472), (1504, 0.0), (1505, 0.044455422447438706), (1506, 0.04550157551932901), (1507, 0.08695652173913045), (1508, 0.0), (1509, 0.04662524041201569), (1510, 0.04170288281141496), (1511, 0.0), (1512, 0.0), (1513, 0.04089304100547654), (1514, 0.047836487323493986), (1515, 0.04170288281141496), (1516, 0.09100315103865803), (1517, 0.042562826537937436), (1518, 0.11821656093586509), (1519, 0.04550157551932901), (1520, 0.0), (1521, 0.044455422447438706), (1522, 0.0), (1523, 0.0), (1524, 0.09829463743659811), (1525, 0.0), (1526, 0.0), (1527, 0.0), (1528, 0.047836487323493986), (1529, 0.0), (1530, 0.0), (1531, 0.07744030926623663), (1532, 0.0), (1533, 0.08695652173913045), (1534, 0.0), (1535, 0.04347826086956522), (1536, 0.08891084489487741), (1537, 0.0), (1538, 0.037450294313656915), (1539, 0.0), (1540, 0.04089304100547654), (1541, 0.04662524041201569), (1542, 0.08512565307587487), (1543, 0.0), (1544, 0.05783149319662403), (1545, 0.0), (1546, 0.08695652173913045), (1547, 0.0), (1548, 0.0), (1549, 0.042562826537937436), (1550, 0.04550157551932901), (1551, 0.0), (1552, 0.0), (1553, 0.0), (1554, 0.0), (1555, 0.04662524041201569), (1556, 0.0), (1557, 0.0), (1558, 0.04550157551932901), (1559, 0.0), (1560, 0.042562826537937436), (1561, 0.0), (1562, 0.05057217374241736), (1563, 0.0), (1564, 0.1057361065275362), (1565, 0.0), (1566, 0.0), (1567, 0.0), (1568, 0.042562826537937436), (1569, 0.14350946197048195), (1570, 0.08695652173913045), (1571, 0.0), (1572, 0.0), (1573, 0.04089304100547654), (1574, 0.0), (1575, 0.0), (1576, 0.049147318718299055), (1577, 0.09100315103865803), (1578, 0.08512565307587487), (1579, 0.044455422447438706), (1580, 0.049147318718299055), (1581, 0.0), (1582, 0.0), (1583, 0.07490058862731383), (1584, 0.044455422447438706), (1585, 0.0), (1586, 0.08512565307587487), (1587, 0.040128617695256406), (1588, 0.0), (1589, 0.0), (1590, 0.036860489038724284), (1591, 0.0), (1592, 0.04662524041201569), (1593, 0.053838190205816545), (1594, 0.04347826086956522), (1595, 0.0), (1596, 0.08695652173913045), (1597, 0.053838190205816545), (1598, 0.0), (1599, 0.04550157551932901), (1600, 0.0), (1601, 0.0), (1602, 0.049147318718299055), (1603, 0.042562826537937436), (1604, 0.0), (1605, 0.08025723539051281), (1606, 0.0), (1607, 0.07881104062391006), (1608, 0.04089304100547654), (1609, 0.0), (1610, 0.13043478260869568), (1611, 0.08695652173913045), (1612, 0.08025723539051281), (1613, 0.0), (1614, 0.0), (1615, 0.09100315103865803), (1616, 0.044455422447438706), (1617, 0.08178608201095308), (1618, 0.0), (1619, 0.0), (1620, 0.049147318718299055), (1621, 0.0), (1622, 0.0), (1623, 0.0), (1624, 0.044455422447438706), (1625, 0.04170288281141496), (1626, 0.11616046389935494), (1627, 0.0), (1628, 0.10114434748483472), (1629, 0.0), (1630, 0.047836487323493986), (1631, 0.0), (1632, 0.0), (1633, 0.04550157551932901), (1634, 0.0), (1635, 0.08695652173913045), (1636, 0.04347826086956522), (1637, 0.04089304100547654), (1638, 0.0), (1639, 0.0), (1640, 0.0), (1641, 0.0), (1642, 0.0), (1643, 0.04347826086956522), (1644, 0.0), (1645, 0.08891084489487741), (1646, 0.0), (1647, 0.0), (1648, 0.0), (1649, 0.047836487323493986), (1650, 0.038720154633118314), (1651, 0.0), (1652, 0.1276884796138123), (1653, 0.044455422447438706), (1654, 0.0), (1655, 0.0), (1656, 0.0), (1657, 0.0), (1658, 0.09325048082403138), (1659, 0.0), (1660, 0.04170288281141496), (1661, 0.044455422447438706), (1662, 0.0), (1663, 0.0), (1664, 0.08025723539051281), (1665, 0.0), (1666, 0.0), (1667, 0.09567297464698797), (1668, 0.04347826086956522), (1669, 0.08512565307587487), (1670, 0.08695652173913045), (1671, 0.04170288281141496), (1672, 0.07490058862731383), (1673, 0.0), (1674, 0.0), (1675, 0.049147318718299055), (1676, 0.0), (1677, 0.0), (1678, 0.0), (1679, 0.0), (1680, 0.08891084489487741), (1681, 0.0), (1682, 0.09100315103865803), (1683, 0.0), (1684, 0.0), (1685, 0.0), (1686, 0.16357216402190616), (1687, 0.0), (1688, 0.0), (1689, 0.0), (1690, 0.0), (1691, 0.0), (1692, 0.0), (1693, 0.0), (1694, 0.04347826086956522), (1695, 0.08891084489487741), (1696, 0.0), (1697, 0.08695652173913045), (1698, 0.0), (1699, 0.04347826086956522), (1700, 0.0), (1701, 0.053838190205816545), (1702, 0.04550157551932901), (1703, 0.0), (1704, 0.0), (1705, 0.0), (1706, 0.042562826537937436), (1707, 0.08695652173913045), (1708, 0.0), (1709, 0.0), (1710, 0.0), (1711, 0.0), (1712, 0.0), (1713, 0.08512565307587487), (1714, 0.04662524041201569), (1715, 0.037450294313656915), (1716, 0.0), (1717, 0.0), (1718, 0.04347826086956522), (1719, 0.03940552031195503), (1720, 0.07881104062391006), (1721, 0.11420804814403215), (1722, 0.0), (1723, 0.0), (1724, 0.0), (1725, 0.0), (1726, 0.04550157551932901), (1727, 0.04662524041201569), (1728, 0.044455422447438706), (1729, 0.0), (1730, 0.0), (1731, 0.07881104062391006), (1732, 0.0), (1733, 0.05057217374241736), (1734, 0.09100315103865803), (1735, 0.038720154633118314), (1736, 0.042562826537937436), (1737, 0.0), (1738, 0.0), (1739, 0.0), (1740, 0.15488061853247326), (1741, 0.05212860351426869), (1742, 0.04550157551932901), (1743, 0.08512565307587487), (1744, 0.0), (1745, 0.0), (1746, 0.0), (1747, 0.04662524041201569), (1748, 0.0), (1749, 0.0), (1750, 0.08512565307587487), (1751, 0.0), (1752, 0.0), (1753, 0.04089304100547654), (1754, 0.04089304100547654), (1755, 0.0), (1756, 0.04170288281141496), (1757, 0.04347826086956522), (1758, 0.0), (1759, 0.0), (1760, 0.0), (1761, 0.08512565307587487), (1762, 0.0), (1763, 0.0), (1764, 0.09829463743659811), (1765, 0.044455422447438706), (1766, 0.0), (1767, 0.0), (1768, 0.0), (1769, 0.04550157551932901), (1770, 0.0), (1771, 0.047836487323493986), (1772, 0.049147318718299055), (1773, 0.0), (1774, 0.0), (1775, 0.0), (1776, 0.09100315103865803), (1777, 0.09567297464698797), (1778, 0.0), (1779, 0.0), (1780, 0.040128617695256406), (1781, 0.038720154633118314), (1782, 0.0), (1783, 0.04662524041201569), (1784, 0.0), (1785, 0.0), (1786, 0.0), (1787, 0.0), (1788, 0.0), (1789, 0.0), (1790, 0.07881104062391006), (1791, 0.0), (1792, 0.08695652173913045), (1793, 0.0), (1794, 0.044455422447438706), (1795, 0.04089304100547654), (1796, 0.06148754619013457), (1797, 0.04089304100547654), (1798, 0.044455422447438706), (1799, 0.0), (1800, 0.0), (1801, 0.0), (1802, 0.12510864843424488), (1803, 0.0), (1804, 0.044455422447438706), (1805, 0.0), (1806, 0.0), (1807, 0.04550157551932901), (1808, 0.044455422447438706), (1809, 0.0), (1810, 0.0), (1811, 0.04347826086956522), (1812, 0.04550157551932901), (1813, 0.0), (1814, 0.0), (1815, 0.04662524041201569), (1816, 0.0), (1817, 0.038720154633118314), (1818, 0.0), (1819, 0.0), (1820, 0.04550157551932901), (1821, 0.08178608201095308), (1822, 0.09100315103865803), (1823, 0.0), (1824, 0.0), (1825, 0.08891084489487741), (1826, 0.044455422447438706), (1827, 0.08512565307587487), (1828, 0.0), (1829, 0.0), (1830, 0.034752402342845795), (1831, 0.0), (1832, 0.0), (1833, 0.0), (1834, 0.05572782125753529), (1835, 0.08512565307587487), (1836, 0.08340576562282992), (1837, 0.04347826086956522), (1838, 0.0), (1839, 0.0), (1840, 0.0), (1841, 0.04347826086956522), (1842, 0.04347826086956522), (1843, 0.0), (1844, 0.044455422447438706), (1845, 0.0), (1846, 0.0), (1847, 0.0), (1848, 0.044455422447438706), (1849, 0.04347826086956522), (1850, 0.04347826086956522), (1851, 0.08891084489487741), (1852, 0.0), (1853, 0.044455422447438706), (1854, 0.11821656093586509), (1855, 0.0), (1856, 0.08512565307587487), (1857, 0.0), (1858, 0.08695652173913045), (1859, 0.0), (1860, 0.09567297464698797), (1861, 0.0), (1862, 0.0), (1863, 0.0), (1864, 0.08340576562282992), (1865, 0.0), (1866, 0.0), (1867, 0.0), (1868, 0.13987572123604708), (1869, 0.0), (1870, 0.0), (1871, 0.0), (1872, 0.08695652173913045), (1873, 0.0), (1874, 0.0), (1875, 0.0), (1876, 0.0), (1877, 0.07744030926623663), (1878, 0.0761386987626881), (1879, 0.0), (1880, 0.08178608201095308), (1881, 0.0), (1882, 0.04550157551932901), (1883, 0.044455422447438706), (1884, 0.04550157551932901), (1885, 0.04347826086956522), (1886, 0.0), (1887, 0.044455422447438706), (1888, 0.04170288281141496), (1889, 0.0), (1890, 0.0), (1891, 0.0), (1892, 0.11821656093586509), (1893, 0.04662524041201569), (1894, 0.044455422447438706), (1895, 0.0), (1896, 0.0), (1897, 0.04550157551932901), (1898, 0.0), (1899, 0.0), (1900, 0.042562826537937436), (1901, 0.0), (1902, 0.0), (1903, 0.0), (1904, 0.0), (1905, 0.0), (1906, 0.042562826537937436), (1907, 0.07490058862731383), (1908, 0.09325048082403138), (1909, 0.04550157551932901), (1910, 0.04662524041201569), (1911, 0.07881104062391006), (1912, 0.0), (1913, 0.053838190205816545), (1914, 0.042562826537937436), (1915, 0.0), (1916, 0.0), (1917, 0.0), (1918, 0.13650472655798704), (1919, 0.0), (1920, 0.09100315103865803), (1921, 0.0), (1922, 0.04347826086956522), (1923, 0.0), (1924, 0.0), (1925, 0.0), (1926, 0.0), (1927, 0.0), (1928, 0.08695652173913045), (1929, 0.0), (1930, 0.04550157551932901), (1931, 0.04662524041201569), (1932, 0.15762208124782012), (1933, 0.047836487323493986), (1934, 0.05783149319662403), (1935, 0.13650472655798704), (1936, 0.08891084489487741), (1937, 0.10425720702853739), (1938, 0.0), (1939, 0.12267912301642962), (1940, 0.0), (1941, 0.0), (1942, 0.04550157551932901), (1943, 0.0), (1944, 0.042562826537937436), (1945, 0.0), (1946, 0.0), (1947, 0.0), (1948, 0.0), (1949, 0.0), (1950, 0.035245368842512066), (1951, 0.0), (1952, 0.0), (1953, 0.09100315103865803), (1954, 0.047836487323493986), (1955, 0.04550157551932901), (1956, 0.04347826086956522), (1957, 0.0), (1958, 0.09100315103865803), (1959, 0.038720154633118314), (1960, 0.0), (1961, 0.0), (1962, 0.16151457061744964), (1963, 0.0), (1964, 0.0), (1965, 0.04089304100547654), (1966, 0.0), (1967, 0.0), (1968, 0.0), (1969, 0.0), (1970, 0.0), (1971, 0.04089304100547654), (1972, 0.04347826086956522), (1973, 0.13650472655798704), (1974, 0.0), (1975, 0.0), (1976, 0.04662524041201569), (1977, 0.07259540086406278), (1978, 0.05057217374241736), (1979, 0.053838190205816545), (1980, 0.0), (1981, 0.0), (1982, 0.0), (1983, 0.0), (1984, 0.13043478260869568), (1985, 0.0), (1986, 0.09829463743659811), (1987, 0.09100315103865803), (1988, 0.0), (1989, 0.0), (1990, 0.1276884796138123), (1991, 0.04347826086956522), (1992, 0.0), (1993, 0.0), (1994, 0.0), (1995, 0.042562826537937436), (1996, 0.0), (1997, 0.0), (1998, 0.0), (1999, 0.12510864843424488), (2000, 0.10425720702853739), (2001, 0.053838190205816545), (2002, 0.04550157551932901), (2003, 0.04170288281141496), (2004, 0.0), (2005, 0.0), (2006, 0.0), (2007, 0.04347826086956522), (2008, 0.0), (2009, 0.0), (2010, 0.0), (2011, 0.0), (2012, 0.0), (2013, 0.04170288281141496), (2014, 0.08340576562282992), (2015, 0.0), (2016, 0.036860489038724284), (2017, 0.040128617695256406), (2018, 0.04347826086956522), (2019, 0.04089304100547654), (2020, 0.0), (2021, 0.0), (2022, 0.0), (2023, 0.04550157551932901), (2024, 0.0), (2025, 0.0), (2026, 0.08178608201095308), (2027, 0.044455422447438706), (2028, 0.0), (2029, 0.08695652173913045), (2030, 0.0), (2031, 0.0), (2032, 0.08891084489487741), (2033, 0.0), (2034, 0.05212860351426869), (2035, 0.14350946197048195), (2036, 0.0), (2037, 0.0), (2038, 0.04347826086956522), (2039, 0.03575992699260758), (2040, 0.12038585308576921), (2041, 0.0), (2042, 0.0), (2043, 0.040128617695256406), (2044, 0.0), (2045, 0.0), (2046, 0.08178608201095308), (2047, 0.04662524041201569), (2048, 0.0), (2049, 0.0), (2050, 0.044455422447438706), (2051, 0.0), (2052, 0.0), (2053, 0.04170288281141496), (2054, 0.08512565307587487), (2055, 0.047836487323493986), (2056, 0.0), (2057, 0.09325048082403138), (2058, 0.0), (2059, 0.0), (2060, 0.0), (2061, 0.04347826086956522), (2062, 0.0), (2063, 0.0), (2064, 0.03940552031195503), (2065, 0.0), (2066, 0.08025723539051281), (2067, 0.0), (2068, 0.0), (2069, 0.13043478260869568), (2070, 0.0), (2071, 0.04347826086956522), (2072, 0.0), (2073, 0.0), (2074, 0.04347826086956522), (2075, 0.04662524041201569), (2076, 0.0), (2077, 0.0), (2078, 0.0), (2079, 0.0), (2080, 0.0), (2081, 0.0), (2082, 0.0), (2083, 0.0), (2084, 0.04089304100547654), (2085, 0.08891084489487741), (2086, 0.16051447078102563), (2087, 0.0), (2088, 0.0), (2089, 0.042562826537937436), (2090, 0.0), (2091, 0.12510864843424488), (2092, 0.0), (2093, 0.09100315103865803), (2094, 0.0), (2095, 0.042562826537937436), (2096, 0.0), (2097, 0.042562826537937436), (2098, 0.0), (2099, 0.0), (2100, 0.09100315103865803), (2101, 0.0), (2102, 0.0), (2103, 0.04089304100547654), (2104, 0.08178608201095308), (2105, 0.0), (2106, 0.0), (2107, 0.0), (2108, 0.08340576562282992), (2109, 0.0), (2110, 0.0), (2111, 0.04170288281141496), (2112, 0.0), (2113, 0.0), (2114, 0.09567297464698797), (2115, 0.042562826537937436), (2116, 0.044455422447438706), (2117, 0.0), (2118, 0.0), (2119, 0.047836487323493986), (2120, 0.0), (2121, 0.042562826537937436), (2122, 0.10767638041163309), (2123, 0.04550157551932901), (2124, 0.0), (2125, 0.0), (2126, 0.0), (2127, 0.08025723539051281), (2128, 0.0), (2129, 0.12510864843424488), (2130, 0.0), (2131, 0.0), (2132, 0.04170288281141496), (2133, 0.0), (2134, 0.0), (2135, 0.0), (2136, 0.07881104062391006), (2137, 0.0), (2138, 0.0), (2139, 0.0), (2140, 0.047836487323493986), (2141, 0.0), (2142, 0.09567297464698797), (2143, 0.0), (2144, 0.0), (2145, 0.0), (2146, 0.0), (2147, 0.044455422447438706), (2148, 0.0), (2149, 0.0), (2150, 0.0), (2151, 0.0), (2152, 0.0), (2153, 0.0), (2154, 0.09567297464698797), (2155, 0.04347826086956522), (2156, 0.08340576562282992), (2157, 0.08512565307587487), (2158, 0.0), (2159, 0.042562826537937436), (2160, 0.0), (2161, 0.18650096164806276), (2162, 0.0), (2163, 0.12510864843424488), (2164, 0.0), (2165, 0.0), (2166, 0.08695652173913045), (2167, 0.044455422447438706), (2168, 0.0), (2169, 0.16051447078102563), (2170, 0.04662524041201569), (2171, 0.0), (2172, 0.0), (2173, 0.0), (2174, 0.0), (2175, 0.09100315103865803), (2176, 0.0), (2177, 0.0), (2178, 0.04089304100547654), (2179, 0.0), (2180, 0.0), (2181, 0.04089304100547654), (2182, 0.05572782125753529), (2183, 0.0), (2184, 0.0761386987626881), (2185, 0.042562826537937436), (2186, 0.0), (2187, 0.0), (2188, 0.10114434748483472), (2189, 0.09567297464698797), (2190, 0.0), (2191, 0.0), (2192, 0.0), (2193, 0.0), (2194, 0.044455422447438706), (2195, 0.042562826537937436), (2196, 0.03940552031195503), (2197, 0.08695652173913045), (2198, 0.042562826537937436), (2199, 0.0), (2200, 0.042562826537937436), (2201, 0.044455422447438706), (2202, 0.0), (2203, 0.04089304100547654), (2204, 0.042562826537937436), (2205, 0.10114434748483472), (2206, 0.044455422447438706), (2207, 0.08178608201095308), (2208, 0.0), (2209, 0.08512565307587487), (2210, 0.0), (2211, 0.0), (2212, 0.09829463743659811), (2213, 0.04089304100547654), (2214, 0.0), (2215, 0.0), (2216, 0.0), (2217, 0.0), (2218, 0.04170288281141496), (2219, 0.0), (2220, 0.0), (2221, 0.04170288281141496), (2222, 0.05057217374241736), (2223, 0.0), (2224, 0.0), (2225, 0.0), (2226, 0.0), (2227, 0.049147318718299055), (2228, 0.047836487323493986), (2229, 0.08178608201095308), (2230, 0.0), (2231, 0.0), (2232, 0.0), (2233, 0.0), (2234, 0.0), (2235, 0.0), (2236, 0.0), (2237, 0.09100315103865803), (2238, 0.04089304100547654), (2239, 0.0), (2240, 0.0), (2241, 0.0), (2242, 0.0), (2243, 0.0), (2244, 0.047836487323493986), (2245, 0.047836487323493986), (2246, 0.04550157551932901), (2247, 0.08891084489487741), (2248, 0.0), (2249, 0.0), (2250, 0.08891084489487741), (2251, 0.0), (2252, 0.0), (2253, 0.044455422447438706), (2254, 0.0), (2255, 0.044455422447438706), (2256, 0.0), (2257, 0.0), (2258, 0.044455422447438706), (2259, 0.0), (2260, 0.0), (2261, 0.044455422447438706), (2262, 0.038720154633118314), (2263, 0.03575992699260758), (2264, 0.04347826086956522), (2265, 0.0), (2266, 0.09567297464698797), (2267, 0.0), (2268, 0.047836487323493986), (2269, 0.0), (2270, 0.047836487323493986), (2271, 0.0), (2272, 0.05057217374241736), (2273, 0.0), (2274, 0.04662524041201569), (2275, 0.0), (2276, 0.0), (2277, 0.04662524041201569), (2278, 0.036860489038724284), (2279, 0.0), (2280, 0.04550157551932901), (2281, 0.0), (2282, 0.0), (2283, 0.0), (2284, 0.0), (2285, 0.042562826537937436), (2286, 0.049147318718299055), (2287, 0.0), (2288, 0.09100315103865803), (2289, 0.0), (2290, 0.0), (2291, 0.04662524041201569), (2292, 0.0), (2293, 0.04347826086956522), (2294, 0.08695652173913045), (2295, 0.04347826086956522), (2296, 0.12510864843424488), (2297, 0.0), (2298, 0.04662524041201569), (2299, 0.0), (2300, 0.09325048082403138), (2301, 0.0), (2302, 0.0), (2303, 0.049147318718299055), (2304, 0.0), (2305, 0.0), (2306, 0.0), (2307, 0.04550157551932901), (2308, 0.0), (2309, 0.10425720702853739), (2310, 0.04170288281141496), (2311, 0.049147318718299055), (2312, 0.0), (2313, 0.044455422447438706), (2314, 0.08340576562282992), (2315, 0.0), (2316, 0.0), (2317, 0.09100315103865803), (2318, 0.08512565307587487), (2319, 0.0), (2320, 0.04347826086956522), (2321, 0.0), (2322, 0.0), (2323, 0.0), (2324, 0.0), (2325, 0.0), (2326, 0.0), (2327, 0.08340576562282992), (2328, 0.04550157551932901), (2329, 0.0), (2330, 0.0), (2331, 0.0), (2332, 0.0), (2333, 0.044455422447438706), (2334, 0.04089304100547654), (2335, 0.04170288281141496), (2336, 0.040128617695256406), (2337, 0.044455422447438706), (2338, 0.04347826086956522), (2339, 0.044455422447438706), (2340, 0.044455422447438706), (2341, 0.0), (2342, 0.0), (2343, 0.13650472655798704), (2344, 0.0), (2345, 0.0), (2346, 0.12038585308576921), (2347, 0.0), (2348, 0.08512565307587487), (2349, 0.038720154633118314), (2350, 0.04550157551932901), (2351, 0.0), (2352, 0.10114434748483472), (2353, 0.0), (2354, 0.0), (2355, 0.044455422447438706), (2356, 0.0), (2357, 0.07259540086406278), (2358, 0.0), (2359, 0.0), (2360, 0.05572782125753529), (2361, 0.0), (2362, 0.0), (2363, 0.049147318718299055), (2364, 0.0), (2365, 0.0), (2366, 0.04347826086956522), (2367, 0.0), (2368, 0.0), (2369, 0.05057217374241736), (2370, 0.0), (2371, 0.11821656093586509), (2372, 0.08695652173913045), (2373, 0.17025130615174974), (2374, 0.0), (2375, 0.04347826086956522), (2376, 0.0), (2377, 0.12510864843424488), (2378, 0.0), (2379, 0.0), (2380, 0.040128617695256406), (2381, 0.0), (2382, 0.0), (2383, 0.0), (2384, 0.0), (2385, 0.0), (2386, 0.09100315103865803), (2387, 0.044455422447438706), (2388, 0.04170288281141496), (2389, 0.04550157551932901), (2390, 0.22227711223719354), (2391, 0.0), (2392, 0.0), (2393, 0.0), (2394, 0.05057217374241736), (2395, 0.0), (2396, 0.04347826086956522), (2397, 0.0), (2398, 0.04347826086956522), (2399, 0.0), (2400, 0.044455422447438706), (2401, 0.14744195615489716), (2402, 0.0), (2403, 0.04089304100547654), (2404, 0.0), (2405, 0.0), (2406, 0.0), (2407, 0.0), (2408, 0.0), (2409, 0.0), (2410, 0.0), (2411, 0.0), (2412, 0.044455422447438706), (2413, 0.0), (2414, 0.0), (2415, 0.042562826537937436), (2416, 0.04089304100547654), (2417, 0.08340576562282992), (2418, 0.0), (2419, 0.0), (2420, 0.0), (2421, 0.0), (2422, 0.0), (2423, 0.0), (2424, 0.0), (2425, 0.0), (2426, 0.0), (2427, 0.0), (2428, 0.0), (2429, 0.049147318718299055), (2430, 0.0), (2431, 0.0), (2432, 0.04550157551932901), (2433, 0.08340576562282992), (2434, 0.0), (2435, 0.04089304100547654), (2436, 0.0), (2437, 0.06019292654288461), (2438, 0.044455422447438706), (2439, 0.04550157551932901), (2440, 0.0), (2441, 0.0), (2442, 0.0761386987626881), (2443, 0.0), (2444, 0.08178608201095308), (2445, 0.047836487323493986), (2446, 0.0), (2447, 0.0), (2448, 0.0), (2449, 0.04347826086956522), (2450, 0.044455422447438706), (2451, 0.0), (2452, 0.0), (2453, 0.0), (2454, 0.0), (2455, 0.042562826537937436), (2456, 0.0), (2457, 0.044455422447438706), (2458, 0.0), (2459, 0.0), (2460, 0.0), (2461, 0.042562826537937436), (2462, 0.0), (2463, 0.0), (2464, 0.0), (2465, 0.04347826086956522), (2466, 0.05057217374241736), (2467, 0.0), (2468, 0.0), (2469, 0.035245368842512066), (2470, 0.03940552031195503), (2471, 0.04662524041201569), (2472, 0.0), (2473, 0.0), (2474, 0.23918243661746993), (2475, 0.04170288281141496), (2476, 0.0), (2477, 0.0), (2478, 0.0), (2479, 0.0), (2480, 0.08025723539051281), (2481, 0.0), (2482, 0.0), (2483, 0.049147318718299055), (2484, 0.0), (2485, 0.0), (2486, 0.07881104062391006), (2487, 0.0), (2488, 0.0), (2489, 0.0), (2490, 0.1739130434782609), (2491, 0.0), (2492, 0.1333662673423161), (2493, 0.04170288281141496), (2494, 0.0), (2495, 0.0), (2496, 0.04662524041201569), (2497, 0.0), (2498, 0.0), (2499, 0.04347826086956522), (2500, 0.0), (2501, 0.0), (2502, 0.0), (2503, 0.0), (2504, 0.0), (2505, 0.0), (2506, 0.09829463743659811), (2507, 0.0), (2508, 0.04347826086956522), (2509, 0.0), (2510, 0.04550157551932901), (2511, 0.04550157551932901), (2512, 0.04662524041201569), (2513, 0.0), (2514, 0.15762208124782012), (2515, 0.08178608201095308), (2516, 0.0), (2517, 0.04170288281141496), (2518, 0.0), (2519, 0.0), (2520, 0.0), (2521, 0.07744030926623663), (2522, 0.0), (2523, 0.0), (2524, 0.0), (2525, 0.0), (2526, 0.0), (2527, 0.08340576562282992), (2528, 0.0), (2529, 0.0), (2530, 0.04662524041201569), (2531, 0.0), (2532, 0.0), (2533, 0.0), (2534, 0.0), (2535, 0.0), (2536, 0.0), (2537, 0.0), (2538, 0.0), (2539, 0.04347826086956522), (2540, 0.08695652173913045), (2541, 0.0), (2542, 0.0), (2543, 0.08891084489487741), (2544, 0.04347826086956522), (2545, 0.038720154633118314), (2546, 0.0), (2547, 0.0), (2548, 0.049147318718299055), (2549, 0.08891084489487741), (2550, 0.08512565307587487), (2551, 0.0), (2552, 0.04347826086956522), (2553, 0.0), (2554, 0.0), (2555, 0.0), (2556, 0.10889310129609417), (2557, 0.0), (2558, 0.04089304100547654), (2559, 0.0), (2560, 0.0), (2561, 0.0), (2562, 0.0), (2563, 0.0), (2564, 0.08340576562282992), (2565, 0.03940552031195503), (2566, 0.0), (2567, 0.0), (2568, 0.04170288281141496), (2569, 0.0), (2570, 0.0), (2571, 0.08891084489487741), (2572, 0.0), (2573, 0.08891084489487741), (2574, 0.05572782125753529), (2575, 0.09325048082403138), (2576, 0.04550157551932901), (2577, 0.049147318718299055), (2578, 0.11821656093586509), (2579, 0.042562826537937436), (2580, 0.0), (2581, 0.0), (2582, 0.0), (2583, 0.049147318718299055), (2584, 0.0), (2585, 0.04662524041201569), (2586, 0.09100315103865803), (2587, 0.0), (2588, 0.0), (2589, 0.09100315103865803), (2590, 0.037450294313656915), (2591, 0.0), (2592, 0.07049073768502413), (2593, 0.0), (2594, 0.0), (2595, 0.0), (2596, 0.0), (2597, 0.037450294313656915), (2598, 0.04662524041201569), (2599, 0.0), (2600, 0.044455422447438706), (2601, 0.0), (2602, 0.044455422447438706), (2603, 0.0), (2604, 0.049147318718299055), (2605, 0.0), (2606, 0.0), (2607, 0.0), (2608, 0.0), (2609, 0.04347826086956522), (2610, 0.04662524041201569), (2611, 0.0), (2612, 0.0), (2613, 0.08025723539051281), (2614, 0.053838190205816545), (2615, 0.0), (2616, 0.0), (2617, 0.0), (2618, 0.0), (2619, 0.0), (2620, 0.0), (2621, 0.0), (2622, 0.0), (2623, 0.03427955850955305), (2624, 0.0), (2625, 0.04347826086956522), (2626, 0.0), (2627, 0.0), (2628, 0.037450294313656915), (2629, 0.10767638041163309), (2630, 0.0), (2631, 0.05572782125753529), (2632, 0.0), (2633, 0.08178608201095308), (2634, 0.0), (2635, 0.0), (2636, 0.0), (2637, 0.0), (2638, 0.0), (2639, 0.044455422447438706), (2640, 0.0), (2641, 0.04170288281141496), (2642, 0.0), (2643, 0.0), (2644, 0.09829463743659811), (2645, 0.08340576562282992), (2646, 0.05783149319662403), (2647, 0.0), (2648, 0.0), (2649, 0.0), (2650, 0.04550157551932901), (2651, 0.04170288281141496), (2652, 0.05057217374241736), (2653, 0.10114434748483472), (2654, 0.0), (2655, 0.13987572123604708), (2656, 0.0), (2657, 0.04170288281141496), (2658, 0.0), (2659, 0.08178608201095308), (2660, 0.0), (2661, 0.0), (2662, 0.0), (2663, 0.0), (2664, 0.0), (2665, 0.0), (2666, 0.0), (2667, 0.0), (2668, 0.0), (2669, 0.08695652173913045), (2670, 0.0), (2671, 0.042562826537937436), (2672, 0.0), (2673, 0.0), (2674, 0.0), (2675, 0.08695652173913045), (2676, 0.0), (2677, 0.0), (2678, 0.08178608201095308), (2679, 0.05572782125753529), (2680, 0.04089304100547654), (2681, 0.08340576562282992), (2682, 0.0), (2683, 0.09100315103865803), (2684, 0.0), (2685, 0.042562826537937436), (2686, 0.0), (2687, 0.0), (2688, 0.17782168978975482), (2689, 0.0), (2690, 0.044455422447438706), (2691, 0.0), (2692, 0.044455422447438706), (2693, 0.04347826086956522), (2694, 0.0), (2695, 0.09829463743659811), (2696, 0.0), (2697, 0.09100315103865803), (2698, 0.0), (2699, 0.0), (2700, 0.0), (2701, 0.0), (2702, 0.0), (2703, 0.0), (2704, 0.042562826537937436), (2705, 0.0), (2706, 0.0), (2707, 0.0), (2708, 0.1563858105428061), (2709, 0.0), (2710, 0.0), (2711, 0.0), (2712, 0.04347826086956522), (2713, 0.0), (2714, 0.09567297464698797), (2715, 0.0), (2716, 0.042562826537937436), (2717, 0.0), (2718, 0.0), (2719, 0.0), (2720, 0.0), (2721, 0.0), (2722, 0.047836487323493986), (2723, 0.0), (2724, 0.0), (2725, 0.0), (2726, 0.0), (2727, 0.0), (2728, 0.05212860351426869), (2729, 0.0), (2730, 0.09567297464698797), (2731, 0.0), (2732, 0.0), (2733, 0.0), (2734, 0.0), (2735, 0.0), (2736, 0.07881104062391006), (2737, 0.044455422447438706), (2738, 0.0), (2739, 0.0), (2740, 0.0), (2741, 0.0), (2742, 0.04089304100547654), (2743, 0.0), (2744, 0.10425720702853739), (2745, 0.0), (2746, 0.0), (2747, 0.07744030926623663), (2748, 0.0), (2749, 0.0), (2750, 0.0), (2751, 0.0), (2752, 0.0), (2753, 0.04170288281141496), (2754, 0.053838190205816545), (2755, 0.047836487323493986), (2756, 0.0), (2757, 0.07744030926623663), (2758, 0.038720154633118314), (2759, 0.04089304100547654), (2760, 0.0), (2761, 0.0), (2762, 0.0), (2763, 0.0), (2764, 0.0), (2765, 0.04662524041201569), (2766, 0.04347826086956522), (2767, 0.0), (2768, 0.0), (2769, 0.13650472655798704), (2770, 0.0), (2771, 0.0), (2772, 0.0), (2773, 0.0), (2774, 0.0), (2775, 0.04347826086956522), (2776, 0.0), (2777, 0.03940552031195503), (2778, 0.0), (2779, 0.0), (2780, 0.0), (2781, 0.044455422447438706), (2782, 0.0), (2783, 0.0), (2784, 0.03179815003744467), (2785, 0.09829463743659811), (2786, 0.0), (2787, 0.07259540086406278), (2788, 0.0), (2789, 0.0), (2790, 0.038720154633118314), (2791, 0.0), (2792, 0.0), (2793, 0.04662524041201569), (2794, 0.04347826086956522), (2795, 0.0), (2796, 0.042562826537937436), (2797, 0.0), (2798, 0.0), (2799, 0.0), (2800, 0.04550157551932901), (2801, 0.04550157551932901), (2802, 0.0), (2803, 0.037450294313656915), (2804, 0.0), (2805, 0.042562826537937436), (2806, 0.07049073768502413), (2807, 0.0), (2808, 0.0), (2809, 0.044455422447438706), (2810, 0.08178608201095308), (2811, 0.0), (2812, 0.09100315103865803), (2813, 0.0), (2814, 0.04662524041201569), (2815, 0.08340576562282992), (2816, 0.047836487323493986), (2817, 0.0), (2818, 0.0), (2819, 0.042562826537937436), (2820, 0.04347826086956522), (2821, 0.0), (2822, 0.0), (2823, 0.049147318718299055), (2824, 0.0), (2825, 0.0), (2826, 0.08512565307587487), (2827, 0.08891084489487741), (2828, 0.0), (2829, 0.0), (2830, 0.0), (2831, 0.0), (2832, 0.0), (2833, 0.0), (2834, 0.0), (2835, 0.04170288281141496), (2836, 0.0), (2837, 0.0), (2838, 0.0), (2839, 0.0), (2840, 0.07744030926623663), (2841, 0.0), (2842, 0.0), (2843, 0.0), (2844, 0.0), (2845, 0.0), (2846, 0.042562826537937436), (2847, 0.0), (2848, 0.044455422447438706), (2849, 0.04550157551932901), (2850, 0.0), (2851, 0.05057217374241736), (2852, 0.0), (2853, 0.04550157551932901), (2854, 0.0), (2855, 0.0), (2856, 0.0), (2857, 0.0), (2858, 0.0), (2859, 0.049147318718299055), (2860, 0.08178608201095308), (2861, 0.0), (2862, 0.0), (2863, 0.08512565307587487), (2864, 0.0), (2865, 0.0), (2866, 0.0), (2867, 0.05572782125753529), (2868, 0.04347826086956522), (2869, 0.0), (2870, 0.09100315103865803), (2871, 0.0), (2872, 0.0), (2873, 0.0), (2874, 0.0), (2875, 0.0), (2876, 0.040128617695256406), (2877, 0.0), (2878, 0.053838190205816545), (2879, 0.0), (2880, 0.04347826086956522), (2881, 0.0), (2882, 0.0), (2883, 0.0), (2884, 0.037450294313656915), (2885, 0.044455422447438706), (2886, 0.04347826086956522), (2887, 0.0), (2888, 0.0), (2889, 0.047836487323493986), (2890, 0.0), (2891, 0.0), (2892, 0.0), (2893, 0.040128617695256406), (2894, 0.0), (2895, 0.0), (2896, 0.0), (2897, 0.0), (2898, 0.0), (2899, 0.14744195615489716), (2900, 0.0), (2901, 0.0), (2902, 0.049147318718299055), (2903, 0.0), (2904, 0.0), (2905, 0.0), (2906, 0.0), (2907, 0.0), (2908, 0.0), (2909, 0.0), (2910, 0.0), (2911, 0.042562826537937436), (2912, 0.08891084489487741), (2913, 0.0), (2914, 0.0), (2915, 0.04347826086956522), (2916, 0.0), (2917, 0.0), (2918, 0.09567297464698797), (2919, 0.0), (2920, 0.0), (2921, 0.05212860351426869), (2922, 0.04550157551932901), (2923, 0.0), (2924, 0.0), (2925, 0.0), (2926, 0.0), (2927, 0.0), (2928, 0.0), (2929, 0.0), (2930, 0.05212860351426869), (2931, 0.14350946197048195), (2932, 0.0), (2933, 0.05572782125753529), (2934, 0.0), (2935, 0.0), (2936, 0.0), (2937, 0.0), (2938, 0.0), (2939, 0.049147318718299055), (2940, 0.0), (2941, 0.0), (2942, 0.0), (2943, 0.047836487323493986), (2944, 0.04662524041201569), (2945, 0.0), (2946, 0.0), (2947, 0.0), (2948, 0.0), (2949, 0.04170288281141496), (2950, 0.0), (2951, 0.04170288281141496), (2952, 0.0), (2953, 0.038720154633118314), (2954, 0.03629770043203139), (2955, 0.044455422447438706), (2956, 0.0), (2957, 0.0), (2958, 0.0), (2959, 0.049147318718299055), (2960, 0.0), (2961, 0.0), (2962, 0.0), (2963, 0.0), (2964, 0.0), (2965, 0.0), (2966, 0.042562826537937436), (2967, 0.08695652173913045), (2968, 0.0), (2969, 0.04347826086956522), (2970, 0.0), (2971, 0.0), (2972, 0.047836487323493986), (2973, 0.0), (2974, 0.0), (2975, 0.13987572123604708), (2976, 0.0), (2977, 0.0), (2978, 0.047836487323493986), (2979, 0.0), (2980, 0.047836487323493986), (2981, 0.0), (2982, 0.0), (2983, 0.0), (2984, 0.0), (2985, 0.047836487323493986), (2986, 0.04089304100547654), (2987, 0.0), (2988, 0.0), (2989, 0.0), (2990, 0.0), (2991, 0.03940552031195503), (2992, 0.0), (2993, 0.044455422447438706), (2994, 0.0), (2995, 0.09100315103865803), (2996, 0.08695652173913045), (2997, 0.0), (2998, 0.04347826086956522), (2999, 0.0), (3000, 0.0), (3001, 0.09829463743659811), (3002, 0.0), (3003, 0.0), (3004, 0.13043478260869568), (3005, 0.0), (3006, 0.04170288281141496), (3007, 0.08891084489487741), (3008, 0.034752402342845795), (3009, 0.0), (3010, 0.0), (3011, 0.0), (3012, 0.0), (3013, 0.08891084489487741), (3014, 0.04347826086956522), (3015, 0.0), (3016, 0.0), (3017, 0.0), (3018, 0.0), (3019, 0.0), (3020, 0.05572782125753529), (3021, 0.05572782125753529), (3022, 0.0), (3023, 0.0), (3024, 0.0), (3025, 0.0), (3026, 0.049147318718299055), (3027, 0.03940552031195503), (3028, 0.0), (3029, 0.03629770043203139), (3030, 0.04550157551932901), (3031, 0.0), (3032, 0.0), (3033, 0.08025723539051281), (3034, 0.0), (3035, 0.08340576562282992), (3036, 0.0), (3037, 0.0), (3038, 0.0), (3039, 0.09100315103865803), (3040, 0.08340576562282992), (3041, 0.0), (3042, 0.0), (3043, 0.05057217374241736), (3044, 0.0), (3045, 0.0), (3046, 0.0), (3047, 0.0), (3048, 0.0), (3049, 0.0), (3050, 0.0), (3051, 0.10114434748483472), (3052, 0.0), (3053, 0.0), (3054, 0.0), (3055, 0.0), (3056, 0.0), (3057, 0.0), (3058, 0.0), (3059, 0.0), (3060, 0.0), (3061, 0.0), (3062, 0.08891084489487741), (3063, 0.0), (3064, 0.04347826086956522), (3065, 0.04662524041201569), (3066, 0.0), (3067, 0.0), (3068, 0.04089304100547654), (3069, 0.0), (3070, 0.0), (3071, 0.0), (3072, 0.0), (3073, 0.04089304100547654), (3074, 0.038720154633118314), (3075, 0.0), (3076, 0.05572782125753529), (3077, 0.10425720702853739), (3078, 0.0), (3079, 0.05212860351426869), (3080, 0.0), (3081, 0.05212860351426869), (3082, 0.04347826086956522), (3083, 0.0), (3084, 0.040128617695256406), (3085, 0.0), (3086, 0.042562826537937436), (3087, 0.10425720702853739), (3088, 0.09100315103865803), (3089, 0.05212860351426869), (3090, 0.0), (3091, 0.0), (3092, 0.0), (3093, 0.0), (3094, 0.0), (3095, 0.09325048082403138), (3096, 0.0), (3097, 0.0), (3098, 0.09100315103865803), (3099, 0.03940552031195503), (3100, 0.0), (3101, 0.0), (3102, 0.0), (3103, 0.0), (3104, 0.0), (3105, 0.0), (3106, 0.044455422447438706), (3107, 0.0), (3108, 0.0), (3109, 0.042562826537937436), (3110, 0.0), (3111, 0.0), (3112, 0.04550157551932901), (3113, 0.0), (3114, 0.05057217374241736), (3115, 0.0), (3116, 0.0), (3117, 0.0), (3118, 0.04550157551932901), (3119, 0.0), (3120, 0.0), (3121, 0.0), (3122, 0.0), (3123, 0.0), (3124, 0.0), (3125, 0.0), (3126, 0.049147318718299055), (3127, 0.0), (3128, 0.09100315103865803), (3129, 0.05057217374241736), (3130, 0.0), (3131, 0.0), (3132, 0.0), (3133, 0.040128617695256406), (3134, 0.0), (3135, 0.0), (3136, 0.08178608201095308), (3137, 0.0), (3138, 0.042562826537937436), (3139, 0.0), (3140, 0.0), (3141, 0.0), (3142, 0.047836487323493986), (3143, 0.08512565307587487), (3144, 0.05057217374241736), (3145, 0.0), (3146, 0.04170288281141496), (3147, 0.0), (3148, 0.09100315103865803), (3149, 0.0), (3150, 0.0), (3151, 0.04550157551932901), (3152, 0.0), (3153, 0.04550157551932901), (3154, 0.053838190205816545), (3155, 0.0), (3156, 0.0), (3157, 0.0), (3158, 0.08025723539051281), (3159, 0.0), (3160, 0.0), (3161, 0.0), (3162, 0.08695652173913045), (3163, 0.0), (3164, 0.0), (3165, 0.042562826537937436), (3166, 0.0), (3167, 0.09567297464698797), (3168, 0.0), (3169, 0.0), (3170, 0.03806934938134405), (3171, 0.03940552031195503), (3172, 0.0), (3173, 0.04347826086956522), (3174, 0.0), (3175, 0.0), (3176, 0.0), (3177, 0.19034674690672027), (3178, 0.0), (3179, 0.0), (3180, 0.08695652173913045), (3181, 0.0), (3182, 0.044455422447438706), (3183, 0.0), (3184, 0.04170288281141496), (3185, 0.0), (3186, 0.0), (3187, 0.0), (3188, 0.0), (3189, 0.0), (3190, 0.047836487323493986), (3191, 0.0), (3192, 0.0), (3193, 0.0), (3194, 0.0), (3195, 0.0), (3196, 0.0), (3197, 0.0), (3198, 0.0), (3199, 0.05212860351426869), (3200, 0.0), (3201, 0.044455422447438706), (3202, 0.09100315103865803), (3203, 0.0), (3204, 0.0), (3205, 0.0), (3206, 0.0), (3207, 0.0), (3208, 0.16681153124565984), (3209, 0.04170288281141496), (3210, 0.042562826537937436), (3211, 0.0), (3212, 0.0), (3213, 0.0), (3214, 0.04170288281141496), (3215, 0.044455422447438706), (3216, 0.049147318718299055), (3217, 0.0), (3218, 0.0), (3219, 0.0), (3220, 0.09100315103865803), (3221, 0.042562826537937436), (3222, 0.0), (3223, 0.0), (3224, 0.11145564251507058), (3225, 0.05572782125753529), (3226, 0.0), (3227, 0.0), (3228, 0.0), (3229, 0.0), (3230, 0.04662524041201569), (3231, 0.08512565307587487), (3232, 0.0), (3233, 0.04662524041201569), (3234, 0.0), (3235, 0.0), (3236, 0.0), (3237, 0.10114434748483472), (3238, 0.0), (3239, 0.0), (3240, 0.0), (3241, 0.047836487323493986), (3242, 0.0), (3243, 0.0), (3244, 0.0), (3245, 0.0), (3246, 0.0), (3247, 0.044455422447438706), (3248, 0.0), (3249, 0.07881104062391006), (3250, 0.19702760155977517), (3251, 0.08512565307587487), (3252, 0.04170288281141496), (3253, 0.0), (3254, 0.0), (3255, 0.0), (3256, 0.0), (3257, 0.0), (3258, 0.0), (3259, 0.044455422447438706), (3260, 0.044455422447438706), (3261, 0.0), (3262, 0.0), (3263, 0.0), (3264, 0.0), (3265, 0.0), (3266, 0.0), (3267, 0.0), (3268, 0.0), (3269, 0.0), (3270, 0.07259540086406278), (3271, 0.05212860351426869), (3272, 0.0), (3273, 0.0), (3274, 0.04662524041201569), (3275, 0.0), (3276, 0.0), (3277, 0.0), (3278, 0.0), (3279, 0.0), (3280, 0.053838190205816545), (3281, 0.044455422447438706), (3282, 0.0), (3283, 0.0), (3284, 0.05212860351426869), (3285, 0.0), (3286, 0.0), (3287, 0.0), (3288, 0.0), (3289, 0.0), (3290, 0.044455422447438706), (3291, 0.0), (3292, 0.053838190205816545), (3293, 0.042562826537937436), (3294, 0.0), (3295, 0.049147318718299055), (3296, 0.0), (3297, 0.04170288281141496), (3298, 0.0), (3299, 0.05057217374241736), (3300, 0.0), (3301, 0.0), (3302, 0.0), (3303, 0.0), (3304, 0.05572782125753529), (3305, 0.08340576562282992), (3306, 0.053838190205816545), (3307, 0.0), (3308, 0.0), (3309, 0.08178608201095308), (3310, 0.0), (3311, 0.0), (3312, 0.0), (3313, 0.0), (3314, 0.0), (3315, 0.0), (3316, 0.044455422447438706), (3317, 0.0), (3318, 0.09100315103865803), (3319, 0.0), (3320, 0.0), (3321, 0.0), (3322, 0.0), (3323, 0.0), (3324, 0.0), (3325, 0.0), (3326, 0.05212860351426869), (3327, 0.035245368842512066), (3328, 0.0), (3329, 0.14350946197048195), (3330, 0.0), (3331, 0.0), (3332, 0.047836487323493986), (3333, 0.0), (3334, 0.0), (3335, 0.053838190205816545), (3336, 0.08340576562282992), (3337, 0.0), (3338, 0.0), (3339, 0.0), (3340, 0.0), (3341, 0.0), (3342, 0.0), (3343, 0.1276884796138123), (3344, 0.0), (3345, 0.0), (3346, 0.0), (3347, 0.0), (3348, 0.0), (3349, 0.08891084489487741), (3350, 0.07744030926623663), (3351, 0.08178608201095308), (3352, 0.07881104062391006), (3353, 0.09567297464698797), (3354, 0.0), (3355, 0.0), (3356, 0.0), (3357, 0.0), (3358, 0.0), (3359, 0.05212860351426869), (3360, 0.0), (3361, 0.05057217374241736), (3362, 0.0), (3363, 0.0), (3364, 0.08891084489487741), (3365, 0.0), (3366, 0.04170288281141496), (3367, 0.0), (3368, 0.0), (3369, 0.0), (3370, 0.16051447078102563), (3371, 0.0), (3372, 0.044455422447438706), (3373, 0.09829463743659811), (3374, 0.0), (3375, 0.0), (3376, 0.0), (3377, 0.0), (3378, 0.0), (3379, 0.047836487323493986), (3380, 0.0), (3381, 0.0), (3382, 0.04089304100547654), (3383, 0.0761386987626881), (3384, 0.0), (3385, 0.08695652173913045), (3386, 0.03575992699260758), (3387, 0.04170288281141496), (3388, 0.0), (3389, 0.0), (3390, 0.0685591170191061), (3391, 0.0), (3392, 0.05212860351426869), (3393, 0.053838190205816545), (3394, 0.04662524041201569), (3395, 0.0), (3396, 0.0), (3397, 0.09567297464698797), (3398, 0.0), (3399, 0.040128617695256406), (3400, 0.0), (3401, 0.0), (3402, 0.05572782125753529), (3403, 0.04662524041201569), (3404, 0.04347826086956522), (3405, 0.044455422447438706), (3406, 0.0), (3407, 0.0), (3408, 0.0), (3409, 0.0), (3410, 0.0), (3411, 0.0), (3412, 0.05212860351426869), (3413, 0.0), (3414, 0.0), (3415, 0.0), (3416, 0.10114434748483472), (3417, 0.038720154633118314), (3418, 0.0), (3419, 0.0), (3420, 0.0), (3421, 0.0), (3422, 0.0), (3423, 0.0), (3424, 0.08178608201095308), (3425, 0.0), (3426, 0.0), (3427, 0.08695652173913045), (3428, 0.0), (3429, 0.0), (3430, 0.04170288281141496), (3431, 0.042562826537937436), (3432, 0.0), (3433, 0.08695652173913045), (3434, 0.0), (3435, 0.1276884796138123), (3436, 0.0), (3437, 0.10425720702853739), (3438, 0.08891084489487741), (3439, 0.042562826537937436), (3440, 0.0), (3441, 0.047836487323493986), (3442, 0.0), (3443, 0.0), (3444, 0.0), (3445, 0.08512565307587487), (3446, 0.0), (3447, 0.0), (3448, 0.03940552031195503), (3449, 0.0), (3450, 0.04170288281141496), (3451, 0.0), (3452, 0.0), (3453, 0.0), (3454, 0.0), (3455, 0.047836487323493986), (3456, 0.0), (3457, 0.0), (3458, 0.0), (3459, 0.0), (3460, 0.042562826537937436), (3461, 0.0), (3462, 0.0), (3463, 0.04550157551932901), (3464, 0.0), (3465, 0.0), (3466, 0.08178608201095308), (3467, 0.0), (3468, 0.0), (3469, 0.0), (3470, 0.0), (3471, 0.0), (3472, 0.04089304100547654), (3473, 0.038720154633118314), (3474, 0.0), (3475, 0.042562826537937436), (3476, 0.0), (3477, 0.04170288281141496), (3478, 0.0), (3479, 0.0), (3480, 0.0), (3481, 0.0), (3482, 0.0), (3483, 0.0), (3484, 0.0), (3485, 0.05572782125753529), (3486, 0.0), (3487, 0.0), (3488, 0.0), (3489, 0.0), (3490, 0.04550157551932901), (3491, 0.0), (3492, 0.04089304100547654), (3493, 0.0), (3494, 0.12038585308576921), (3495, 0.0), (3496, 0.0), (3497, 0.0), (3498, 0.0), (3499, 0.0), (3500, 0.05572782125753529), (3501, 0.0), (3502, 0.0), (3503, 0.0), (3504, 0.0), (3505, 0.04662524041201569), (3506, 0.0), (3507, 0.0), (3508, 0.0), (3509, 0.053838190205816545), (3510, 0.0), (3511, 0.0), (3512, 0.0), (3513, 0.0), (3514, 0.0), (3515, 0.0), (3516, 0.040128617695256406), (3517, 0.0), (3518, 0.04550157551932901), (3519, 0.0), (3520, 0.0), (3521, 0.0), (3522, 0.1276884796138123), (3523, 0.05572782125753529), (3524, 0.0), (3525, 0.0), (3526, 0.0), (3527, 0.0), (3528, 0.0), (3529, 0.0), (3530, 0.0), (3531, 0.0), (3532, 0.0), (3533, 0.040128617695256406), (3534, 0.0), (3535, 0.0), (3536, 0.0), (3537, 0.0), (3538, 0.0), (3539, 0.0), (3540, 0.0), (3541, 0.0), (3542, 0.0), (3543, 0.040128617695256406), (3544, 0.0), (3545, 0.04550157551932901), (3546, 0.0), (3547, 0.0), (3548, 0.0), (3549, 0.0), (3550, 0.0), (3551, 0.0), (3552, 0.04347826086956522), (3553, 0.04550157551932901), (3554, 0.0), (3555, 0.0), (3556, 0.0), (3557, 0.047836487323493986), (3558, 0.0), (3559, 0.0), (3560, 0.0), (3561, 0.0), (3562, 0.0), (3563, 0.0), (3564, 0.0), (3565, 0.0), (3566, 0.0), (3567, 0.0), (3568, 0.044455422447438706), (3569, 0.0), (3570, 0.09100315103865803), (3571, 0.0), (3572, 0.0), (3573, 0.0), (3574, 0.0), (3575, 0.0), (3576, 0.0), (3577, 0.0), (3578, 0.044455422447438706), (3579, 0.08891084489487741), (3580, 0.049147318718299055), (3581, 0.0), (3582, 0.0), (3583, 0.0), (3584, 0.08695652173913045), (3585, 0.04662524041201569), (3586, 0.0), (3587, 0.0), (3588, 0.0), (3589, 0.0), (3590, 0.0), (3591, 0.05212860351426869), (3592, 0.044455422447438706), (3593, 0.0), (3594, 0.0), (3595, 0.0), (3596, 0.03940552031195503), (3597, 0.0), (3598, 0.0), (3599, 0.04170288281141496), (3600, 0.0), (3601, 0.04662524041201569), (3602, 0.0), (3603, 0.04170288281141496), (3604, 0.0), (3605, 0.08178608201095308), (3606, 0.044455422447438706), (3607, 0.10114434748483472), (3608, 0.0), (3609, 0.0), (3610, 0.0), (3611, 0.0), (3612, 0.0), (3613, 0.04089304100547654), (3614, 0.0), (3615, 0.0), (3616, 0.07881104062391006), (3617, 0.09100315103865803), (3618, 0.09100315103865803), (3619, 0.0), (3620, 0.0), (3621, 0.0), (3622, 0.0), (3623, 0.047836487323493986), (3624, 0.0), (3625, 0.0), (3626, 0.047836487323493986), (3627, 0.047836487323493986), (3628, 0.0), (3629, 0.04550157551932901), (3630, 0.0), (3631, 0.047836487323493986), (3632, 0.0), (3633, 0.0), (3634, 0.0), (3635, 0.0), (3636, 0.0), (3637, 0.0), (3638, 0.0), (3639, 0.042562826537937436), (3640, 0.0), (3641, 0.0), (3642, 0.0), (3643, 0.0), (3644, 0.0), (3645, 0.0), (3646, 0.0), (3647, 0.0), (3648, 0.0), (3649, 0.0), (3650, 0.09567297464698797), (3651, 0.0), (3652, 0.0), (3653, 0.0), (3654, 0.0), (3655, 0.0), (3656, 0.0), (3657, 0.0), (3658, 0.0), (3659, 0.04550157551932901), (3660, 0.0), (3661, 0.0), (3662, 0.0), (3663, 0.04550157551932901), (3664, 0.0), (3665, 0.0), (3666, 0.0), (3667, 0.04347826086956522), (3668, 0.04550157551932901), (3669, 0.0), (3670, 0.0), (3671, 0.040128617695256406), (3672, 0.04550157551932901), (3673, 0.0), (3674, 0.0), (3675, 0.0), (3676, 0.0), (3677, 0.0), (3678, 0.0), (3679, 0.0), (3680, 0.0), (3681, 0.0), (3682, 0.0), (3683, 0.044455422447438706), (3684, 0.0), (3685, 0.042562826537937436), (3686, 0.0), (3687, 0.0), (3688, 0.0), (3689, 0.04347826086956522), (3690, 0.0), (3691, 0.0), (3692, 0.049147318718299055), (3693, 0.04550157551932901), (3694, 0.0), (3695, 0.04347826086956522), (3696, 0.0), (3697, 0.0), (3698, 0.044455422447438706), (3699, 0.0), (3700, 0.0), (3701, 0.0), (3702, 0.0), (3703, 0.0), (3704, 0.0), (3705, 0.0), (3706, 0.038720154633118314), (3707, 0.05057217374241736), (3708, 0.0), (3709, 0.0), (3710, 0.04550157551932901), (3711, 0.0), (3712, 0.0), (3713, 0.0), (3714, 0.10767638041163309), (3715, 0.08891084489487741), (3716, 0.0), (3717, 0.0), (3718, 0.0), (3719, 0.0), (3720, 0.0), (3721, 0.0), (3722, 0.04170288281141496), (3723, 0.0), (3724, 0.09829463743659811), (3725, 0.04662524041201569), (3726, 0.0), (3727, 0.0), (3728, 0.0), (3729, 0.0), (3730, 0.0), (3731, 0.0), (3732, 0.0), (3733, 0.09325048082403138), (3734, 0.0), (3735, 0.0), (3736, 0.05057217374241736), (3737, 0.0), (3738, 0.0), (3739, 0.0), (3740, 0.04662524041201569), (3741, 0.0), (3742, 0.0), (3743, 0.0), (3744, 0.0), (3745, 0.0), (3746, 0.0), (3747, 0.0), (3748, 0.0), (3749, 0.04170288281141496), (3750, 0.040128617695256406), (3751, 0.04170288281141496), (3752, 0.0), (3753, 0.0), (3754, 0.0), (3755, 0.03940552031195503), (3756, 0.053838190205816545), (3757, 0.0), (3758, 0.044455422447438706), (3759, 0.0), (3760, 0.047836487323493986), (3761, 0.0), (3762, 0.0), (3763, 0.0), (3764, 0.08695652173913045), (3765, 0.0), (3766, 0.04347826086956522), (3767, 0.0), (3768, 0.0), (3769, 0.0), (3770, 0.0), (3771, 0.0), (3772, 0.042562826537937436), (3773, 0.0), (3774, 0.044455422447438706), (3775, 0.09567297464698797), (3776, 0.0), (3777, 0.09829463743659811), (3778, 0.0), (3779, 0.0), (3780, 0.0), (3781, 0.0), (3782, 0.04550157551932901), (3783, 0.0), (3784, 0.0), (3785, 0.044455422447438706), (3786, 0.0), (3787, 0.0), (3788, 0.0), (3789, 0.0), (3790, 0.0), (3791, 0.0), (3792, 0.0), (3793, 0.0), (3794, 0.0), (3795, 0.044455422447438706), (3796, 0.0), (3797, 0.0), (3798, 0.0), (3799, 0.09100315103865803), (3800, 0.04347826086956522), (3801, 0.0), (3802, 0.0), (3803, 0.0), (3804, 0.038720154633118314), (3805, 0.0), (3806, 0.0), (3807, 0.0), (3808, 0.05783149319662403), (3809, 0.0), (3810, 0.044455422447438706), (3811, 0.0), (3812, 0.0), (3813, 0.0), (3814, 0.04662524041201569), (3815, 0.042562826537937436), (3816, 0.04550157551932901), (3817, 0.049147318718299055), (3818, 0.0), (3819, 0.044455422447438706), (3820, 0.0), (3821, 0.0), (3822, 0.0), (3823, 0.0), (3824, 0.04550157551932901), (3825, 0.0), (3826, 0.08695652173913045), (3827, 0.09100315103865803), (3828, 0.04347826086956522), (3829, 0.09325048082403138), (3830, 0.04550157551932901), (3831, 0.0), (3832, 0.0), (3833, 0.04550157551932901), (3834, 0.0), (3835, 0.04662524041201569), (3836, 0.18057877962865385), (3837, 0.0), (3838, 0.0), (3839, 0.0), (3840, 0.0), (3841, 0.044455422447438706), (3842, 0.047836487323493986), (3843, 0.04662524041201569), (3844, 0.0), (3845, 0.08891084489487741), (3846, 0.05212860351426869), (3847, 0.0), (3848, 0.04347826086956522), (3849, 0.04662524041201569), (3850, 0.0), (3851, 0.04550157551932901), (3852, 0.0), (3853, 0.0), (3854, 0.04347826086956522), (3855, 0.0), (3856, 0.13987572123604708), (3857, 0.053838190205816545), (3858, 0.0), (3859, 0.0), (3860, 0.0), (3861, 0.0), (3862, 0.0), (3863, 0.0), (3864, 0.0), (3865, 0.04662524041201569), (3866, 0.0), (3867, 0.0), (3868, 0.0), (3869, 0.0), (3870, 0.0), (3871, 0.0), (3872, 0.0), (3873, 0.03940552031195503), (3874, 0.0), (3875, 0.0), (3876, 0.0), (3877, 0.0), (3878, 0.0), (3879, 0.0), (3880, 0.04170288281141496), (3881, 0.0), (3882, 0.049147318718299055), (3883, 0.03940552031195503), (3884, 0.07744030926623663), (3885, 0.0), (3886, 0.04347826086956522), (3887, 0.0), (3888, 0.0), (3889, 0.0), (3890, 0.0), (3891, 0.0), (3892, 0.0), (3893, 0.0), (3894, 0.0), (3895, 0.0), (3896, 0.0), (3897, 0.0), (3898, 0.0), (3899, 0.04550157551932901), (3900, 0.0), (3901, 0.13043478260869568), (3902, 0.08512565307587487), (3903, 0.0), (3904, 0.0), (3905, 0.0), (3906, 0.07744030926623663), (3907, 0.03806934938134405), (3908, 0.0), (3909, 0.0), (3910, 0.0), (3911, 0.0), (3912, 0.05212860351426869), (3913, 0.0), (3914, 0.0), (3915, 0.0), (3916, 0.0), (3917, 0.0), (3918, 0.0), (3919, 0.05057217374241736), (3920, 0.042562826537937436), (3921, 0.0), (3922, 0.0), (3923, 0.0), (3924, 0.0), (3925, 0.0), (3926, 0.0), (3927, 0.04550157551932901), (3928, 0.042562826537937436), (3929, 0.14744195615489716), (3930, 0.09829463743659811), (3931, 0.0), (3932, 0.0), (3933, 0.0), (3934, 0.08178608201095308), (3935, 0.0), (3936, 0.047836487323493986), (3937, 0.0), (3938, 0.0), (3939, 0.0), (3940, 0.03806934938134405), (3941, 0.04550157551932901), (3942, 0.04550157551932901), (3943, 0.053838190205816545), (3944, 0.0), (3945, 0.047836487323493986), (3946, 0.0), (3947, 0.0), (3948, 0.0), (3949, 0.0), (3950, 0.0), (3951, 0.0), (3952, 0.0), (3953, 0.0), (3954, 0.0), (3955, 0.04662524041201569), (3956, 0.0), (3957, 0.0), (3958, 0.0), (3959, 0.0), (3960, 0.0), (3961, 0.0), (3962, 0.04170288281141496), (3963, 0.0), (3964, 0.0), (3965, 0.044455422447438706), (3966, 0.044455422447438706), (3967, 0.0), (3968, 0.0), (3969, 0.0), (3970, 0.0), (3971, 0.0), (3972, 0.053838190205816545), (3973, 0.04347826086956522), (3974, 0.0), (3975, 0.04550157551932901), (3976, 0.053838190205816545), (3977, 0.0), (3978, 0.0), (3979, 0.0), (3980, 0.0), (3981, 0.0), (3982, 0.047836487323493986), (3983, 0.044455422447438706), (3984, 0.0), (3985, 0.0), (3986, 0.08695652173913045), (3987, 0.0), (3988, 0.047836487323493986), (3989, 0.0), (3990, 0.04347826086956522), (3991, 0.047836487323493986), (3992, 0.0), (3993, 0.09567297464698797), (3994, 0.042562826537937436), (3995, 0.0), (3996, 0.0), (3997, 0.0), (3998, 0.0), (3999, 0.0), (4000, 0.0), (4001, 0.05212860351426869), (4002, 0.0), (4003, 0.0), (4004, 0.10114434748483472), (4005, 0.0), (4006, 0.0), (4007, 0.0), (4008, 0.0), (4009, 0.0), (4010, 0.10889310129609416), (4011, 0.04347826086956522), (4012, 0.09100315103865803), (4013, 0.04550157551932901), (4014, 0.03806934938134405), (4015, 0.0), (4016, 0.11616046389935494), (4017, 0.0), (4018, 0.0), (4019, 0.0), (4020, 0.0), (4021, 0.0), (4022, 0.0), (4023, 0.0), (4024, 0.0), (4025, 0.0), (4026, 0.0), (4027, 0.0), (4028, 0.0), (4029, 0.0), (4030, 0.0), (4031, 0.0), (4032, 0.0), (4033, 0.08891084489487741), (4034, 0.0), (4035, 0.0), (4036, 0.0), (4037, 0.0), (4038, 0.0), (4039, 0.08695652173913045), (4040, 0.0), (4041, 0.0), (4042, 0.08695652173913045), (4043, 0.0), (4044, 0.0), (4045, 0.0), (4046, 0.0), (4047, 0.0), (4048, 0.0), (4049, 0.08025723539051281), (4050, 0.0), (4051, 0.0), (4052, 0.0), (4053, 0.0), (4054, 0.0), (4055, 0.053838190205816545), (4056, 0.0), (4057, 0.0), (4058, 0.0), (4059, 0.044455422447438706), (4060, 0.0), (4061, 0.047836487323493986), (4062, 0.0), (4063, 0.0), (4064, 0.0), (4065, 0.03940552031195503), (4066, 0.0), (4067, 0.0), (4068, 0.0), (4069, 0.0), (4070, 0.10767638041163309), (4071, 0.08512565307587487), (4072, 0.09100315103865803), (4073, 0.0), (4074, 0.0), (4075, 0.044455422447438706), (4076, 0.0), (4077, 0.08695652173913045), (4078, 0.03806934938134405), (4079, 0.0), (4080, 0.04170288281141496), (4081, 0.0), (4082, 0.0), (4083, 0.0), (4084, 0.03940552031195503), (4085, 0.03940552031195503), (4086, 0.05572782125753529), (4087, 0.0), (4088, 0.0), (4089, 0.03806934938134405), (4090, 0.0), (4091, 0.0), (4092, 0.0), (4093, 0.09325048082403138), (4094, 0.0), (4095, 0.0), (4096, 0.0), (4097, 0.0), (4098, 0.0), (4099, 0.044455422447438706), (4100, 0.04089304100547654), (4101, 0.0), (4102, 0.0), (4103, 0.04170288281141496), (4104, 0.0), (4105, 0.0), (4106, 0.0), (4107, 0.07490058862731383), (4108, 0.0), (4109, 0.0), (4110, 0.0), (4111, 0.053838190205816545), (4112, 0.0), (4113, 0.0), (4114, 0.04550157551932901), (4115, 0.0), (4116, 0.0), (4117, 0.09567297464698797), (4118, 0.0), (4119, 0.0), (4120, 0.0), (4121, 0.0), (4122, 0.0), (4123, 0.0), (4124, 0.042562826537937436), (4125, 0.05572782125753529), (4126, 0.04662524041201569), (4127, 0.0), (4128, 0.0), (4129, 0.14744195615489716), (4130, 0.0), (4131, 0.0), (4132, 0.0), (4133, 0.0), (4134, 0.0), (4135, 0.042562826537937436), (4136, 0.0), (4137, 0.0), (4138, 0.0), (4139, 0.04662524041201569), (4140, 0.0), (4141, 0.0), (4142, 0.0), (4143, 0.10767638041163309), (4144, 0.040128617695256406), (4145, 0.0), (4146, 0.10114434748483472), (4147, 0.0), (4148, 0.0), (4149, 0.05057217374241736), (4150, 0.0), (4151, 0.0), (4152, 0.0), (4153, 0.0), (4154, 0.0), (4155, 0.09100315103865803), (4156, 0.0), (4157, 0.0), (4158, 0.0), (4159, 0.0), (4160, 0.05212860351426869), (4161, 0.05572782125753529), (4162, 0.0), (4163, 0.0), (4164, 0.0), (4165, 0.0), (4166, 0.0), (4167, 0.0), (4168, 0.0), (4169, 0.0), (4170, 0.0), (4171, 0.0), (4172, 0.0), (4173, 0.0), (4174, 0.0), (4175, 0.08512565307587487), (4176, 0.09567297464698797), (4177, 0.0), (4178, 0.0), (4179, 0.0), (4180, 0.0), (4181, 0.0), (4182, 0.040128617695256406), (4183, 0.0), (4184, 0.0), (4185, 0.04662524041201569), (4186, 0.0), (4187, 0.049147318718299055), (4188, 0.0), (4189, 0.09100315103865803), (4190, 0.0), (4191, 0.04550157551932901), (4192, 0.0), (4193, 0.04550157551932901), (4194, 0.044455422447438706), (4195, 0.0), (4196, 0.0), (4197, 0.040128617695256406), (4198, 0.0), (4199, 0.0), (4200, 0.0), (4201, 0.0), (4202, 0.0), (4203, 0.0), (4204, 0.0), (4205, 0.0), (4206, 0.036860489038724284), (4207, 0.0), (4208, 0.0), (4209, 0.0), (4210, 0.0), (4211, 0.0), (4212, 0.0), (4213, 0.0), (4214, 0.0), (4215, 0.038720154633118314), (4216, 0.0), (4217, 0.0), (4218, 0.0), (4219, 0.0), (4220, 0.03806934938134405), (4221, 0.0), (4222, 0.0), (4223, 0.0), (4224, 0.0), (4225, 0.0), (4226, 0.0), (4227, 0.0), (4228, 0.0), (4229, 0.0), (4230, 0.04347826086956522), (4231, 0.0), (4232, 0.0), (4233, 0.05783149319662403), (4234, 0.0), (4235, 0.0), (4236, 0.0), (4237, 0.044455422447438706), (4238, 0.0), (4239, 0.0), (4240, 0.0), (4241, 0.0), (4242, 0.0), (4243, 0.0), (4244, 0.04662524041201569), (4245, 0.0), (4246, 0.0), (4247, 0.0), (4248, 0.0), (4249, 0.0), (4250, 0.0), (4251, 0.04662524041201569), (4252, 0.0), (4253, 0.0), (4254, 0.0), (4255, 0.0), (4256, 0.05057217374241736), (4257, 0.0), (4258, 0.053838190205816545), (4259, 0.04347826086956522), (4260, 0.0), (4261, 0.0), (4262, 0.05212860351426869), (4263, 0.0), (4264, 0.0), (4265, 0.0), (4266, 0.0), (4267, 0.04170288281141496), (4268, 0.0), (4269, 0.06019292654288461), (4270, 0.0), (4271, 0.0), (4272, 0.0), (4273, 0.0), (4274, 0.0), (4275, 0.05057217374241736), (4276, 0.0), (4277, 0.053838190205816545), (4278, 0.0), (4279, 0.0), (4280, 0.0), (4281, 0.0), (4282, 0.0), (4283, 0.0), (4284, 0.0), (4285, 0.0), (4286, 0.044455422447438706), (4287, 0.0), (4288, 0.0), (4289, 0.0), (4290, 0.0), (4291, 0.0), (4292, 0.0), (4293, 0.0), (4294, 0.0), (4295, 0.0), (4296, 0.05212860351426869), (4297, 0.0), (4298, 0.0), (4299, 0.0), (4300, 0.047836487323493986), (4301, 0.05212860351426869), (4302, 0.0), (4303, 0.0), (4304, 0.0), (4305, 0.0), (4306, 0.0), (4307, 0.0), (4308, 0.0), (4309, 0.05057217374241736), (4310, 0.04347826086956522), (4311, 0.0), (4312, 0.08695652173913045), (4313, 0.0), (4314, 0.0), (4315, 0.1517165212272521), (4316, 0.10425720702853739), (4317, 0.0), (4318, 0.0), (4319, 0.0), (4320, 0.0), (4321, 0.0), (4322, 0.0), (4323, 0.0), (4324, 0.0), (4325, 0.044455422447438706), (4326, 0.04170288281141496), (4327, 0.040128617695256406), (4328, 0.0), (4329, 0.0), (4330, 0.0), (4331, 0.0), (4332, 0.04170288281141496), (4333, 0.0), (4334, 0.0), (4335, 0.044455422447438706), (4336, 0.0), (4337, 0.0), (4338, 0.0), (4339, 0.08695652173913045), (4340, 0.0), (4341, 0.0), (4342, 0.0), (4343, 0.0), (4344, 0.08512565307587487), (4345, 0.0), (4346, 0.04662524041201569), (4347, 0.0), (4348, 0.0), (4349, 0.04550157551932901), (4350, 0.0), (4351, 0.04550157551932901), (4352, 0.04550157551932901), (4353, 0.08695652173913045), (4354, 0.0), (4355, 0.0), (4356, 0.0), (4357, 0.0), (4358, 0.0), (4359, 0.04550157551932901), (4360, 0.0), (4361, 0.0), (4362, 0.0), (4363, 0.0), (4364, 0.0), (4365, 0.0), (4366, 0.10767638041163309), (4367, 0.0), (4368, 0.04550157551932901), (4369, 0.0), (4370, 0.0), (4371, 0.0), (4372, 0.0), (4373, 0.0), (4374, 0.0), (4375, 0.0), (4376, 0.0), (4377, 0.0), (4378, 0.03806934938134405), (4379, 0.0), (4380, 0.04550157551932901), (4381, 0.0), (4382, 0.0), (4383, 0.04550157551932901), (4384, 0.0), (4385, 0.0), (4386, 0.1517165212272521), (4387, 0.0), (4388, 0.04550157551932901), (4389, 0.0), (4390, 0.0), (4391, 0.0), (4392, 0.0), (4393, 0.0), (4394, 0.0), (4395, 0.05212860351426869), (4396, 0.0), (4397, 0.0), (4398, 0.0), (4399, 0.04662524041201569), (4400, 0.0), (4401, 0.10425720702853739), (4402, 0.04347826086956522), (4403, 0.0), (4404, 0.0), (4405, 0.0), (4406, 0.0), (4407, 0.0), (4408, 0.04550157551932901), (4409, 0.0), (4410, 0.0), (4411, 0.0), (4412, 0.0), (4413, 0.06019292654288461), (4414, 0.053838190205816545), (4415, 0.0), (4416, 0.0), (4417, 0.0), (4418, 0.0659380473395787), (4419, 0.05783149319662403), (4420, 0.0), (4421, 0.0), (4422, 0.0), (4423, 0.0), (4424, 0.0), (4425, 0.04550157551932901), (4426, 0.0), (4427, 0.0), (4428, 0.0), (4429, 0.0), (4430, 0.0), (4431, 0.0), (4432, 0.0), (4433, 0.0), (4434, 0.0), (4435, 0.0), (4436, 0.0), (4437, 0.0), (4438, 0.0), (4439, 0.0), (4440, 0.12038585308576921), (4441, 0.0), (4442, 0.0), (4443, 0.0), (4444, 0.0), (4445, 0.0), (4446, 0.0), (4447, 0.0), (4448, 0.0), (4449, 0.0), (4450, 0.05212860351426869), (4451, 0.05572782125753529), (4452, 0.0), (4453, 0.0), (4454, 0.0), (4455, 0.0), (4456, 0.0), (4457, 0.0), (4458, 0.0), (4459, 0.0), (4460, 0.04662524041201569), (4461, 0.04662524041201569), (4462, 0.0), (4463, 0.0), (4464, 0.0), (4465, 0.08178608201095308), (4466, 0.0), (4467, 0.0), (4468, 0.0), (4469, 0.0), (4470, 0.0), (4471, 0.0), (4472, 0.0), (4473, 0.0), (4474, 0.0), (4475, 0.0), (4476, 0.05212860351426869), (4477, 0.0), (4478, 0.049147318718299055), (4479, 0.0), (4480, 0.0), (4481, 0.0), (4482, 0.0), (4483, 0.0), (4484, 0.0), (4485, 0.0), (4486, 0.0), (4487, 0.040128617695256406), (4488, 0.0), (4489, 0.053838190205816545), (4490, 0.053838190205816545), (4491, 0.0), (4492, 0.0), (4493, 0.0), (4494, 0.0), (4495, 0.0), (4496, 0.0), (4497, 0.0), (4498, 0.0), (4499, 0.10425720702853739), (4500, 0.05572782125753529), (4501, 0.0), (4502, 0.0), (4503, 0.0), (4504, 0.0), (4505, 0.0), (4506, 0.0), (4507, 0.0), (4508, 0.0), (4509, 0.0), (4510, 0.0), (4511, 0.0), (4512, 0.0), (4513, 0.04550157551932901), (4514, 0.04662524041201569), (4515, 0.0), (4516, 0.0), (4517, 0.0), (4518, 0.08891084489487741), (4519, 0.0), (4520, 0.0), (4521, 0.0), (4522, 0.0), (4523, 0.0), (4524, 0.0), (4525, 0.0), (4526, 0.0), (4527, 0.0), (4528, 0.0), (4529, 0.08695652173913045), (4530, 0.0), (4531, 0.0), (4532, 0.0), (4533, 0.0), (4534, 0.0), (4535, 0.04662524041201569), (4536, 0.0), (4537, 0.047836487323493986), (4538, 0.0), (4539, 0.04662524041201569), (4540, 0.0), (4541, 0.0), (4542, 0.0), (4543, 0.0), (4544, 0.0), (4545, 0.0), (4546, 0.05212860351426869), (4547, 0.0), (4548, 0.0), (4549, 0.04347826086956522), (4550, 0.0), (4551, 0.0), (4552, 0.0), (4553, 0.0), (4554, 0.09829463743659811), (4555, 0.0), (4556, 0.0), (4557, 0.05212860351426869), (4558, 0.0), (4559, 0.0), (4560, 0.0), (4561, 0.0), (4562, 0.0), (4563, 0.04170288281141496), (4564, 0.0), (4565, 0.08891084489487741), (4566, 0.0), (4567, 0.0), (4568, 0.0), (4569, 0.0), (4570, 0.0), (4571, 0.0), (4572, 0.08695652173913045), (4573, 0.0), (4574, 0.0), (4575, 0.0), (4576, 0.0), (4577, 0.0), (4578, 0.0), (4579, 0.0761386987626881), (4580, 0.0), (4581, 0.0), (4582, 0.0), (4583, 0.0), (4584, 0.0), (4585, 0.0), (4586, 0.04347826086956522), (4587, 0.0), (4588, 0.0), (4589, 0.0), (4590, 0.0), (4591, 0.0), (4592, 0.0), (4593, 0.0), (4594, 0.0), (4595, 0.0), (4596, 0.0), (4597, 0.0), (4598, 0.0), (4599, 0.09567297464698797), (4600, 0.0), (4601, 0.10114434748483472), (4602, 0.0), (4603, 0.0), (4604, 0.0), (4605, 0.0), (4606, 0.0), (4607, 0.0), (4608, 0.047836487323493986), (4609, 0.0), (4610, 0.0), (4611, 0.0), (4612, 0.0), (4613, 0.0), (4614, 0.0), (4615, 0.0), (4616, 0.0), (4617, 0.0), (4618, 0.0), (4619, 0.0), (4620, 0.08891084489487741), (4621, 0.047836487323493986), (4622, 0.0), (4623, 0.04550157551932901), (4624, 0.0), (4625, 0.0), (4626, 0.0), (4627, 0.0), (4628, 0.0), (4629, 0.0), (4630, 0.0), (4631, 0.038720154633118314), (4632, 0.0), (4633, 0.0), (4634, 0.0), (4635, 0.0), (4636, 0.044455422447438706), (4637, 0.0), (4638, 0.12038585308576923), (4639, 0.0), (4640, 0.0), (4641, 0.06286946134619315), (4642, 0.0), (4643, 0.0), (4644, 0.0), (4645, 0.0), (4646, 0.0), (4647, 0.0), (4648, 0.0), (4649, 0.0), (4650, 0.047836487323493986), (4651, 0.0), (4652, 0.05057217374241736), (4653, 0.0), (4654, 0.14350946197048195), (4655, 0.05572782125753529), (4656, 0.0), (4657, 0.0), (4658, 0.0), (4659, 0.0), (4660, 0.0), (4661, 0.0), (4662, 0.0), (4663, 0.0), (4664, 0.09829463743659811), (4665, 0.0), (4666, 0.049147318718299055), (4667, 0.0), (4668, 0.0), (4669, 0.08512565307587487), (4670, 0.08512565307587487), (4671, 0.0), (4672, 0.0), (4673, 0.0), (4674, 0.0), (4675, 0.0), (4676, 0.0), (4677, 0.049147318718299055), (4678, 0.0), (4679, 0.0), (4680, 0.0), (4681, 0.0), (4682, 0.0), (4683, 0.0), (4684, 0.0), (4685, 0.12038585308576923), (4686, 0.0), (4687, 0.0), (4688, 0.0), (4689, 0.0), (4690, 0.0), (4691, 0.0), (4692, 0.0), (4693, 0.0), (4694, 0.0), (4695, 0.0), (4696, 0.12267912301642962), (4697, 0.0), (4698, 0.0), (4699, 0.0), (4700, 0.0), (4701, 0.0643489452087787), (4702, 0.0), (4703, 0.0), (4704, 0.0), (4705, 0.0), (4706, 0.0), (4707, 0.0), (4708, 0.06286946134619315), (4709, 0.04347826086956522), (4710, 0.0), (4711, 0.0), (4712, 0.0), (4713, 0.0), (4714, 0.0), (4715, 0.0), (4716, 0.0), (4717, 0.0), (4718, 0.0), (4719, 0.0), (4720, 0.04550157551932901), (4721, 0.0), (4722, 0.04662524041201569), (4723, 0.0), (4724, 0.042562826537937436), (4725, 0.0), (4726, 0.0), (4727, 0.047836487323493986), (4728, 0.0), (4729, 0.0), (4730, 0.0), (4731, 0.0), (4732, 0.047836487323493986), (4733, 0.0), (4734, 0.05057217374241736), (4735, 0.0), (4736, 0.0), (4737, 0.0), (4738, 0.0), (4739, 0.0), (4740, 0.0), (4741, 0.0), (4742, 0.0), (4743, 0.0), (4744, 0.0), (4745, 0.0), (4746, 0.0), (4747, 0.0), (4748, 0.0), (4749, 0.0), (4750, 0.0), (4751, 0.0), (4752, 0.0), (4753, 0.0), (4754, 0.0), (4755, 0.0), (4756, 0.04662524041201569), (4757, 0.0), (4758, 0.0), (4759, 0.10425720702853739), (4760, 0.0), (4761, 0.0), (4762, 0.0), (4763, 0.0), (4764, 0.0), (4765, 0.0), (4766, 0.0), (4767, 0.0), (4768, 0.0), (4769, 0.06019292654288461), (4770, 0.0), (4771, 0.0), (4772, 0.042562826537937436), (4773, 0.0), (4774, 0.0), (4775, 0.0), (4776, 0.0), (4777, 0.0), (4778, 0.04550157551932901), (4779, 0.0), (4780, 0.0), (4781, 0.0), (4782, 0.0), (4783, 0.0), (4784, 0.0), (4785, 0.0), (4786, 0.0), (4787, 0.0), (4788, 0.0), (4789, 0.0), (4790, 0.0), (4791, 0.0), (4792, 0.0), (4793, 0.0), (4794, 0.053838190205816545), (4795, 0.0), (4796, 0.0), (4797, 0.0), (4798, 0.04089304100547654), (4799, 0.0), (4800, 0.0), (4801, 0.0), (4802, 0.0)]\n"
     ]
    }
   ],
   "source": [
    "print(similar_movies)"
   ]
  },
  {
   "cell_type": "code",
   "execution_count": 19,
   "metadata": {},
   "outputs": [],
   "source": [
    "sorted_similar_movies = sorted(similar_movies,key=lambda x:x[1],reverse=True)[1:]"
   ]
  },
  {
   "cell_type": "code",
   "execution_count": 21,
   "metadata": {},
   "outputs": [
    {
     "name": "stdout",
     "output_type": "stream",
     "text": [
      "Top 7 similar movies to Thor are:\n",
      "\n",
      "Thor: The Dark World\n",
      "The Avengers\n",
      "Captain America: The Winter Soldier\n",
      "Avengers: Age of Ultron\n",
      "Captain America: Civil War\n",
      "Pirates of the Caribbean: Dead Man's Chest\n",
      "Cinderella\n"
     ]
    }
   ],
   "source": [
    "i = 0\n",
    "print(\"Top 7 similar movies to \"+movie_user_likes+\" are:\\n\")\n",
    "for element in sorted_similar_movies:\n",
    "    print(get_title_from_index(element[0]))\n",
    "    i = i+1\n",
    "    if i>=7:\n",
    "        break"
   ]
  },
  {
   "cell_type": "code",
   "execution_count": null,
   "metadata": {},
   "outputs": [],
   "source": []
  }
 ],
 "metadata": {
  "kernelspec": {
   "display_name": "Python 3",
   "language": "python",
   "name": "python3"
  },
  "language_info": {
   "codemirror_mode": {
    "name": "ipython",
    "version": 3
   },
   "file_extension": ".py",
   "mimetype": "text/x-python",
   "name": "python",
   "nbconvert_exporter": "python",
   "pygments_lexer": "ipython3",
   "version": "3.8.5"
  }
 },
 "nbformat": 4,
 "nbformat_minor": 4
}
